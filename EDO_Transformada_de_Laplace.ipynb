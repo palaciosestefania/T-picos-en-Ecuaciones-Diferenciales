{
  "nbformat": 4,
  "nbformat_minor": 0,
  "metadata": {
    "colab": {
      "provenance": [],
      "authorship_tag": "ABX9TyNRPvXSKAQz6hAlgQJzDBI2",
      "include_colab_link": true
    },
    "kernelspec": {
      "name": "python3",
      "display_name": "Python 3"
    },
    "language_info": {
      "name": "python"
    }
  },
  "cells": [
    {
      "cell_type": "markdown",
      "metadata": {
        "id": "view-in-github",
        "colab_type": "text"
      },
      "source": [
        "<a href=\"https://colab.research.google.com/github/palaciosestefania/T-picos-en-Ecuaciones-Diferenciales/blob/main/EDO_Transformada_de_Laplace.ipynb\" target=\"_parent\"><img src=\"https://colab.research.google.com/assets/colab-badge.svg\" alt=\"Open In Colab\"/></a>"
      ]
    },
    {
      "cell_type": "code",
      "execution_count": 54,
      "metadata": {
        "id": "RRUmo_eN43VV"
      },
      "outputs": [],
      "source": [
        "import numpy as np\n",
        "import sympy as sp"
      ]
    },
    {
      "cell_type": "code",
      "source": [
        "%matplotlib inline\n",
        "%config InlineBackend.figure_format='retina'\n",
        "import matplotlib.pyplot as plt\n",
        "import matplotlib as mpl\n",
        "from sympy import symbols, laplace_transform\n",
        "mpl.rcParams['text.usetex'] = True\n",
        "mpl.rcParams['mathtext.fontset'] = 'stix'\n",
        "mpl.rcParams['font.family'] = 'serif'\n",
        "mpl.rcParams['font.sans-serif'] = 'stix'"
      ],
      "metadata": {
        "id": "KAqaHn2I5UAY"
      },
      "execution_count": 4,
      "outputs": []
    },
    {
      "cell_type": "code",
      "source": [
        "import sympy\n",
        "sympy.init_printing()"
      ],
      "metadata": {
        "id": "0aKzMXEH5YkA"
      },
      "execution_count": 5,
      "outputs": []
    },
    {
      "cell_type": "code",
      "source": [
        "from scipy import integrate"
      ],
      "metadata": {
        "id": "TUzltfcI5aix"
      },
      "execution_count": 6,
      "outputs": []
    },
    {
      "cell_type": "code",
      "source": [
        "t = sympy.symbols(\"t\", positive=True)"
      ],
      "metadata": {
        "id": "yrU_n_fj5eAe"
      },
      "execution_count": 7,
      "outputs": []
    },
    {
      "cell_type": "code",
      "source": [
        "s, Y = sympy.symbols(\"s, Y\", real=True)"
      ],
      "metadata": {
        "id": "rMeZGyOb5fXj"
      },
      "execution_count": 8,
      "outputs": []
    },
    {
      "cell_type": "code",
      "source": [
        "y = sympy.Function(\"y\")"
      ],
      "metadata": {
        "id": "r6j43rNJ5hxH"
      },
      "execution_count": 9,
      "outputs": []
    },
    {
      "cell_type": "code",
      "source": [
        "ode = y(t).diff(t, 2) + 2 * y(t).diff(t) + 10 * y(t) - 2 * sympy.sin(3*t)"
      ],
      "metadata": {
        "id": "VtSrAJEt5lMO"
      },
      "execution_count": 10,
      "outputs": []
    },
    {
      "cell_type": "code",
      "source": [
        "ode"
      ],
      "metadata": {
        "colab": {
          "base_uri": "https://localhost:8080/",
          "height": 54
        },
        "id": "33BLK6Ga6sh-",
        "outputId": "221d2467-e061-4fbc-fec7-fbdf1bae061d"
      },
      "execution_count": 11,
      "outputs": [
        {
          "output_type": "execute_result",
          "data": {
            "text/plain": [
              "                                     2       \n",
              "                         d          d        \n",
              "10⋅y(t) - 2⋅sin(3⋅t) + 2⋅──(y(t)) + ───(y(t))\n",
              "                         dt           2      \n",
              "                                    dt       "
            ],
            "text/latex": "$\\displaystyle 10 y{\\left(t \\right)} - 2 \\sin{\\left(3 t \\right)} + 2 \\frac{d}{d t} y{\\left(t \\right)} + \\frac{d^{2}}{d t^{2}} y{\\left(t \\right)}$"
          },
          "metadata": {},
          "execution_count": 11
        }
      ]
    },
    {
      "cell_type": "code",
      "source": [
        "def L(ode):\n",
        "    return sympy.laplace_transform(ode, t, s, noconds=True)"
      ],
      "metadata": {
        "id": "CNczb36X6vJ4"
      },
      "execution_count": 12,
      "outputs": []
    },
    {
      "cell_type": "code",
      "source": [
        "L(ode)"
      ],
      "metadata": {
        "colab": {
          "base_uri": "https://localhost:8080/",
          "height": 60
        },
        "id": "l8OZqMnNKTDv",
        "outputId": "20ea00e4-b19a-4b3a-b521-167fbb05c6b3"
      },
      "execution_count": 13,
      "outputs": [
        {
          "output_type": "execute_result",
          "data": {
            "text/plain": [
              " 2                                                                                                 ↪\n",
              "s ⋅LaplaceTransform(y(t), t, s) + 2⋅s⋅LaplaceTransform(y(t), t, s) - s⋅y(0) + 10⋅LaplaceTransform( ↪\n",
              "                                                                                                   ↪\n",
              "                                                                                                   ↪\n",
              "\n",
              "↪                        ⎛d       ⎞│        6   \n",
              "↪ y(t), t, s) - 2⋅y(0) - ⎜──(y(t))⎟│    - ──────\n",
              "↪                        ⎝dt      ⎠│t=0    2    \n",
              "↪                                         s  + 9"
            ],
            "text/latex": "$\\displaystyle s^{2} \\mathcal{L}_{t}\\left[y{\\left(t \\right)}\\right]\\left(s\\right) + 2 s \\mathcal{L}_{t}\\left[y{\\left(t \\right)}\\right]\\left(s\\right) - s y{\\left(0 \\right)} + 10 \\mathcal{L}_{t}\\left[y{\\left(t \\right)}\\right]\\left(s\\right) - 2 y{\\left(0 \\right)} - \\left. \\frac{d}{d t} y{\\left(t \\right)} \\right|_{\\substack{ t=0 }} - \\frac{6}{s^{2} + 9}$"
          },
          "metadata": {},
          "execution_count": 13
        }
      ]
    },
    {
      "cell_type": "code",
      "source": [
        "def laplace_transform_derivatives(e):\n",
        "    \"\"\"\n",
        "    Evaluate the laplace transforms of derivatives of functions\n",
        "    \"\"\"\n",
        "    if isinstance(e, sympy.LaplaceTransform):\n",
        "        if isinstance(e.args[0], sympy.Derivative):\n",
        "            d, t, s = e.args\n",
        "            n = d.args[1][1]\n",
        "            return ((s**n) * sympy.LaplaceTransform(d.args[0], t, s) -\n",
        "                    sum([s**(n-i) * sympy.diff(d.args[0], t, i-1).subs(t, 0)\n",
        "                         for i in range(1, n+1)]))\n",
        "\n",
        "    if isinstance(e, (sympy.Add, sympy.Mul)):\n",
        "        t = type(e)\n",
        "        return t(*[laplace_transform_derivatives(arg) for arg in e.args])\n",
        "\n",
        "    return e"
      ],
      "metadata": {
        "id": "E1tiEPprLejv"
      },
      "execution_count": 14,
      "outputs": []
    },
    {
      "cell_type": "code",
      "source": [
        "L1=laplace_transform_derivatives(L(ode))"
      ],
      "metadata": {
        "id": "r1OFfIAkMN-s"
      },
      "execution_count": 15,
      "outputs": []
    },
    {
      "cell_type": "code",
      "source": [
        "L1"
      ],
      "metadata": {
        "colab": {
          "base_uri": "https://localhost:8080/",
          "height": 60
        },
        "id": "F3NIMqLIMd_l",
        "outputId": "15969ec1-8a5b-4296-ef2c-62396dd054d9"
      },
      "execution_count": 16,
      "outputs": [
        {
          "output_type": "execute_result",
          "data": {
            "text/plain": [
              " 2                                                                                                 ↪\n",
              "s ⋅LaplaceTransform(y(t), t, s) + 2⋅s⋅LaplaceTransform(y(t), t, s) - s⋅y(0) + 10⋅LaplaceTransform( ↪\n",
              "                                                                                                   ↪\n",
              "                                                                                                   ↪\n",
              "\n",
              "↪                        ⎛d       ⎞│        6   \n",
              "↪ y(t), t, s) - 2⋅y(0) - ⎜──(y(t))⎟│    - ──────\n",
              "↪                        ⎝dt      ⎠│t=0    2    \n",
              "↪                                         s  + 9"
            ],
            "text/latex": "$\\displaystyle s^{2} \\mathcal{L}_{t}\\left[y{\\left(t \\right)}\\right]\\left(s\\right) + 2 s \\mathcal{L}_{t}\\left[y{\\left(t \\right)}\\right]\\left(s\\right) - s y{\\left(0 \\right)} + 10 \\mathcal{L}_{t}\\left[y{\\left(t \\right)}\\right]\\left(s\\right) - 2 y{\\left(0 \\right)} - \\left. \\frac{d}{d t} y{\\left(t \\right)} \\right|_{\\substack{ t=0 }} - \\frac{6}{s^{2} + 9}$"
          },
          "metadata": {},
          "execution_count": 16
        }
      ]
    },
    {
      "cell_type": "code",
      "source": [
        "L_y = sympy.laplace_transform(y(t), t, s)"
      ],
      "metadata": {
        "id": "JgP06H_IM1lY"
      },
      "execution_count": 17,
      "outputs": []
    },
    {
      "cell_type": "code",
      "source": [
        "L_y"
      ],
      "metadata": {
        "colab": {
          "base_uri": "https://localhost:8080/",
          "height": 38
        },
        "id": "bCYSXIRQRT_H",
        "outputId": "c9771bf1-37b8-447c-c61f-c5f9f1c522cf"
      },
      "execution_count": 18,
      "outputs": [
        {
          "output_type": "execute_result",
          "data": {
            "text/plain": [
              "(LaplaceTransform(y(t), t, s), -∞, True)"
            ],
            "text/latex": "$\\displaystyle \\left( \\mathcal{L}_{t}\\left[y{\\left(t \\right)}\\right]\\left(s\\right), \\  -\\infty, \\  \\text{True}\\right)$"
          },
          "metadata": {},
          "execution_count": 18
        }
      ]
    },
    {
      "cell_type": "code",
      "source": [
        "L3=L1.subs({L_y: Y})\n",
        "L3"
      ],
      "metadata": {
        "colab": {
          "base_uri": "https://localhost:8080/",
          "height": 60
        },
        "id": "Oh37THdaMf6c",
        "outputId": "4262377b-b2b2-46a1-b026-0037b573019b"
      },
      "execution_count": 19,
      "outputs": [
        {
          "output_type": "execute_result",
          "data": {
            "text/plain": [
              " 2                                                                                                 ↪\n",
              "s ⋅LaplaceTransform(y(t), t, s) + 2⋅s⋅LaplaceTransform(y(t), t, s) - s⋅y(0) + 10⋅LaplaceTransform( ↪\n",
              "                                                                                                   ↪\n",
              "                                                                                                   ↪\n",
              "\n",
              "↪                        ⎛d       ⎞│        6   \n",
              "↪ y(t), t, s) - 2⋅y(0) - ⎜──(y(t))⎟│    - ──────\n",
              "↪                        ⎝dt      ⎠│t=0    2    \n",
              "↪                                         s  + 9"
            ],
            "text/latex": "$\\displaystyle s^{2} \\mathcal{L}_{t}\\left[y{\\left(t \\right)}\\right]\\left(s\\right) + 2 s \\mathcal{L}_{t}\\left[y{\\left(t \\right)}\\right]\\left(s\\right) - s y{\\left(0 \\right)} + 10 \\mathcal{L}_{t}\\left[y{\\left(t \\right)}\\right]\\left(s\\right) - 2 y{\\left(0 \\right)} - \\left. \\frac{d}{d t} y{\\left(t \\right)} \\right|_{\\substack{ t=0 }} - \\frac{6}{s^{2} + 9}$"
          },
          "metadata": {},
          "execution_count": 19
        }
      ]
    },
    {
      "cell_type": "code",
      "source": [
        "equation = L1\n",
        "result = equation.subs(L_y, Y)\n",
        "result"
      ],
      "metadata": {
        "colab": {
          "base_uri": "https://localhost:8080/",
          "height": 60
        },
        "id": "2G097G0FRvNR",
        "outputId": "a45527f6-57a5-478f-c024-e178a03ddfc4"
      },
      "execution_count": 21,
      "outputs": [
        {
          "output_type": "execute_result",
          "data": {
            "text/plain": [
              " 2                                                                                                 ↪\n",
              "s ⋅LaplaceTransform(y(t), t, s) + 2⋅s⋅LaplaceTransform(y(t), t, s) - s⋅y(0) + 10⋅LaplaceTransform( ↪\n",
              "                                                                                                   ↪\n",
              "                                                                                                   ↪\n",
              "\n",
              "↪                        ⎛d       ⎞│        6   \n",
              "↪ y(t), t, s) - 2⋅y(0) - ⎜──(y(t))⎟│    - ──────\n",
              "↪                        ⎝dt      ⎠│t=0    2    \n",
              "↪                                         s  + 9"
            ],
            "text/latex": "$\\displaystyle s^{2} \\mathcal{L}_{t}\\left[y{\\left(t \\right)}\\right]\\left(s\\right) + 2 s \\mathcal{L}_{t}\\left[y{\\left(t \\right)}\\right]\\left(s\\right) - s y{\\left(0 \\right)} + 10 \\mathcal{L}_{t}\\left[y{\\left(t \\right)}\\right]\\left(s\\right) - 2 y{\\left(0 \\right)} - \\left. \\frac{d}{d t} y{\\left(t \\right)} \\right|_{\\substack{ t=0 }} - \\frac{6}{s^{2} + 9}$"
          },
          "metadata": {},
          "execution_count": 21
        }
      ]
    },
    {
      "cell_type": "code",
      "source": [
        "ics = {y(0): 1, y(t).diff(t).subs(t, 0): 0}"
      ],
      "metadata": {
        "id": "br6282zCytFr"
      },
      "execution_count": 22,
      "outputs": []
    },
    {
      "cell_type": "code",
      "source": [
        "ics"
      ],
      "metadata": {
        "colab": {
          "base_uri": "https://localhost:8080/",
          "height": 68
        },
        "id": "j4Y7oeMFzbcZ",
        "outputId": "3a85b3e3-aa5c-4f66-acd4-b6e663ecc982"
      },
      "execution_count": 23,
      "outputs": [
        {
          "output_type": "execute_result",
          "data": {
            "text/plain": [
              "⎧         ⎛d       ⎞│      ⎫\n",
              "⎨y(0): 1, ⎜──(y(t))⎟│   : 0⎬\n",
              "⎩         ⎝dt      ⎠│t=0   ⎭"
            ],
            "text/latex": "$\\displaystyle \\left\\{ y{\\left(0 \\right)} : 1, \\  \\left. \\frac{d}{d t} y{\\left(t \\right)} \\right|_{\\substack{ t=0 }} : 0\\right\\}$"
          },
          "metadata": {},
          "execution_count": 23
        }
      ]
    },
    {
      "cell_type": "code",
      "source": [
        "L4=L3.subs(ics)\n",
        "L4"
      ],
      "metadata": {
        "colab": {
          "base_uri": "https://localhost:8080/",
          "height": 52
        },
        "id": "Q_s21lCPzein",
        "outputId": "67e51845-f6af-402a-a467-80f7a6a9f08d"
      },
      "execution_count": 24,
      "outputs": [
        {
          "output_type": "execute_result",
          "data": {
            "text/plain": [
              " 2                                                                                                 ↪\n",
              "s ⋅LaplaceTransform(y(t), t, s) + 2⋅s⋅LaplaceTransform(y(t), t, s) - s + 10⋅LaplaceTransform(y(t), ↪\n",
              "                                                                                                   ↪\n",
              "                                                                                                   ↪\n",
              "\n",
              "↪                6   \n",
              "↪  t, s) - 2 - ──────\n",
              "↪               2    \n",
              "↪              s  + 9"
            ],
            "text/latex": "$\\displaystyle s^{2} \\mathcal{L}_{t}\\left[y{\\left(t \\right)}\\right]\\left(s\\right) + 2 s \\mathcal{L}_{t}\\left[y{\\left(t \\right)}\\right]\\left(s\\right) - s + 10 \\mathcal{L}_{t}\\left[y{\\left(t \\right)}\\right]\\left(s\\right) - 2 - \\frac{6}{s^{2} + 9}$"
          },
          "metadata": {},
          "execution_count": 24
        }
      ]
    },
    {
      "cell_type": "code",
      "source": [
        "Y_sol=sympy.solve(L4,L_y)[0]\n",
        "Y_sol"
      ],
      "metadata": {
        "colab": {
          "base_uri": "https://localhost:8080/",
          "height": 58
        },
        "id": "B-BFt1oa0vrH",
        "outputId": "9611160d-c813-4404-9bb4-1019861638da"
      },
      "execution_count": 32,
      "outputs": [
        {
          "output_type": "execute_result",
          "data": {
            "text/plain": [
              "⎛     3      2                          ⎞\n",
              "⎜    s  + 2⋅s  + 9⋅s + 24               ⎟\n",
              "⎜─────────────────────────────, -∞, True⎟\n",
              "⎜ 4      3       2                      ⎟\n",
              "⎝s  + 2⋅s  + 19⋅s  + 18⋅s + 90          ⎠"
            ],
            "text/latex": "$\\displaystyle \\left( \\frac{s^{3} + 2 s^{2} + 9 s + 24}{s^{4} + 2 s^{3} + 19 s^{2} + 18 s + 90}, \\  -\\infty, \\  \\text{True}\\right)$"
          },
          "metadata": {},
          "execution_count": 32
        }
      ]
    },
    {
      "cell_type": "code",
      "source": [
        "#Y_sol = sympy.solve(L4,Y)\n",
        "#_sol"
      ],
      "metadata": {
        "id": "wPORhBkCz-zH"
      },
      "execution_count": 33,
      "outputs": []
    },
    {
      "cell_type": "code",
      "source": [
        "sympy.apart(Y_sol[0])"
      ],
      "metadata": {
        "colab": {
          "base_uri": "https://localhost:8080/",
          "height": 57
        },
        "id": "eMNZHe4Z1MbU",
        "outputId": "7e923e98-030c-4b9e-db76-4e8684edd584"
      },
      "execution_count": 34,
      "outputs": [
        {
          "output_type": "execute_result",
          "data": {
            "text/plain": [
              "  6⋅(2⋅s - 1)       49⋅s + 92     \n",
              "- ─────────── + ──────────────────\n",
              "     ⎛ 2    ⎞      ⎛ 2           ⎞\n",
              "  37⋅⎝s  + 9⎠   37⋅⎝s  + 2⋅s + 10⎠"
            ],
            "text/latex": "$\\displaystyle - \\frac{6 \\left(2 s - 1\\right)}{37 \\left(s^{2} + 9\\right)} + \\frac{49 s + 92}{37 \\left(s^{2} + 2 s + 10\\right)}$"
          },
          "metadata": {},
          "execution_count": 34
        }
      ]
    },
    {
      "cell_type": "code",
      "source": [
        "def invL(F):\n",
        "    return sympy.inverse_laplace_transform(F, s, t)\n",
        "    #Se declara a la inversa de la transfromada de Laplace como L(f) para así solo \"llamarla\""
      ],
      "metadata": {
        "id": "qToxqe0Y1lzT"
      },
      "execution_count": 35,
      "outputs": []
    },
    {
      "cell_type": "code",
      "source": [
        "y_sol = invL(Y_sol[0])\n",
        "y_sol"
      ],
      "metadata": {
        "colab": {
          "base_uri": "https://localhost:8080/",
          "height": 54
        },
        "id": "T8f6Op8I1O35",
        "outputId": "d166ec4f-7fbe-4b7a-f2f5-a79ec786839d"
      },
      "execution_count": 38,
      "outputs": [
        {
          "output_type": "execute_result",
          "data": {
            "text/plain": [
              "                               -t                -t         \n",
              "2⋅sin(3⋅t)   12⋅cos(3⋅t)   43⋅ℯ  ⋅sin(3⋅t)   49⋅ℯ  ⋅cos(3⋅t)\n",
              "────────── - ─────────── + ─────────────── + ───────────────\n",
              "    37           37              111               37       "
            ],
            "text/latex": "$\\displaystyle \\frac{2 \\sin{\\left(3 t \\right)}}{37} - \\frac{12 \\cos{\\left(3 t \\right)}}{37} + \\frac{43 e^{- t} \\sin{\\left(3 t \\right)}}{111} + \\frac{49 e^{- t} \\cos{\\left(3 t \\right)}}{37}$"
          },
          "metadata": {},
          "execution_count": 38
        }
      ]
    },
    {
      "cell_type": "code",
      "source": [
        "YS=sympy.simplify(y_sol)\n",
        "YS"
      ],
      "metadata": {
        "colab": {
          "base_uri": "https://localhost:8080/",
          "height": 54
        },
        "id": "s-VdzbHi2K8j",
        "outputId": "ff38f87d-459d-4957-b024-10fca761d98f"
      },
      "execution_count": 39,
      "outputs": [
        {
          "output_type": "execute_result",
          "data": {
            "text/plain": [
              "⎛                           t                             ⎞  -t\n",
              "⎝6⋅(sin(3⋅t) - 6⋅cos(3⋅t))⋅ℯ  + 43⋅sin(3⋅t) + 147⋅cos(3⋅t)⎠⋅ℯ  \n",
              "───────────────────────────────────────────────────────────────\n",
              "                              111                              "
            ],
            "text/latex": "$\\displaystyle \\frac{\\left(6 \\left(\\sin{\\left(3 t \\right)} - 6 \\cos{\\left(3 t \\right)}\\right) e^{t} + 43 \\sin{\\left(3 t \\right)} + 147 \\cos{\\left(3 t \\right)}\\right) e^{- t}}{111}$"
          },
          "metadata": {},
          "execution_count": 39
        }
      ]
    },
    {
      "cell_type": "code",
      "source": [
        "sympy.simplify(y_sol).evalf()"
      ],
      "metadata": {
        "colab": {
          "base_uri": "https://localhost:8080/",
          "height": 38
        },
        "id": "5wyeY8zV2XV4",
        "outputId": "2b301c12-ba89-4628-b48f-618267391ca0"
      },
      "execution_count": 40,
      "outputs": [
        {
          "output_type": "execute_result",
          "data": {
            "text/plain": [
              "                    ⎛                               t                                 ⎞  -t\n",
              "0.00900900900900901⋅⎝6.0⋅(sin(3⋅t) - 6.0⋅cos(3⋅t))⋅ℯ  + 43.0⋅sin(3⋅t) + 147.0⋅cos(3⋅t)⎠⋅ℯ  "
            ],
            "text/latex": "$\\displaystyle 0.00900900900900901 \\left(6.0 \\left(\\sin{\\left(3 t \\right)} - 6.0 \\cos{\\left(3 t \\right)}\\right) e^{t} + 43.0 \\sin{\\left(3 t \\right)} + 147.0 \\cos{\\left(3 t \\right)}\\right) e^{- t}$"
          },
          "metadata": {},
          "execution_count": 40
        }
      ]
    },
    {
      "cell_type": "code",
      "source": [
        "y_t = sympy.lambdify(t, y_sol.evalf(), 'numpy')"
      ],
      "metadata": {
        "id": "4ZZL1-E92guZ"
      },
      "execution_count": 41,
      "outputs": []
    },
    {
      "cell_type": "code",
      "source": [
        "y_t"
      ],
      "metadata": {
        "colab": {
          "base_uri": "https://localhost:8080/"
        },
        "id": "jQm3COzW2kPd",
        "outputId": "d5940592-4939-425a-e0ad-740f15b34692"
      },
      "execution_count": 42,
      "outputs": [
        {
          "output_type": "execute_result",
          "data": {
            "text/plain": [
              "<function _lambdifygenerated(t)>"
            ]
          },
          "metadata": {},
          "execution_count": 42
        }
      ]
    },
    {
      "cell_type": "code",
      "source": [
        "#%version_information numpy, scipy, sympy, matplotlib"
      ],
      "metadata": {
        "id": "woqdQovY5toW"
      },
      "execution_count": 59,
      "outputs": []
    }
  ]
}