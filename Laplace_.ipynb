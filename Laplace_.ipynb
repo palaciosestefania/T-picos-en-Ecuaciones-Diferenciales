{
  "cells": [
    {
      "cell_type": "markdown",
      "metadata": {
        "id": "view-in-github",
        "colab_type": "text"
      },
      "source": [
        "<a href=\"https://colab.research.google.com/github/palaciosestefania/T-picos-en-Ecuaciones-Diferenciales/blob/main/Laplace_.ipynb\" target=\"_parent\"><img src=\"https://colab.research.google.com/assets/colab-badge.svg\" alt=\"Open In Colab\"/></a>"
      ]
    },
    {
      "cell_type": "markdown",
      "metadata": {
        "id": "YnuhJpGWfhOm"
      },
      "source": [
        "## Transformada de Laplace con SymPy\n",
        "\n",
        "Definición\n",
        "\n",
        "$$\\mathcal{L}\\{f(t)\\} = \\int_0^\\infty f(t) e^{-st} \\mathrm{d}s $$"
      ]
    },
    {
      "cell_type": "code",
      "execution_count": 1,
      "metadata": {
        "id": "7GuoKLldfhOp"
      },
      "outputs": [],
      "source": [
        "import sympy #librería para matemáticas simbólicas\n",
        "sympy.init_printing() #imprime caracteres 'unicode' para expresiones matemáticas."
      ]
    },
    {
      "cell_type": "code",
      "execution_count": 3,
      "metadata": {
        "colab": {
          "base_uri": "https://localhost:8080/"
        },
        "id": "2plQl1T3fhOp",
        "outputId": "76914cfb-5dba-44bf-a4f4-69c4789d0d6a"
      },
      "outputs": [
        {
          "output_type": "stream",
          "name": "stderr",
          "text": [
            "UsageError: unrecognized arguments: #Genera gráficas dentro de la notebook\n"
          ]
        }
      ],
      "source": [
        "import matplotlib.pyplot as plt #generación de gráficos\n",
        "%matplotlib inline  #Genera gráficas dentro de la notebook"
      ]
    },
    {
      "cell_type": "code",
      "execution_count": 4,
      "metadata": {
        "id": "miXRwZ4cfhOq"
      },
      "outputs": [],
      "source": [
        "t, s = sympy.symbols('t, s') #Declaración de la variable independiente (t) y la variable de la transformada de Laplace (s)\n",
        "a = sympy.symbols('a', real=True, positive=True) #a como variable real y positiva"
      ]
    },
    {
      "cell_type": "code",
      "execution_count": 6,
      "metadata": {
        "colab": {
          "base_uri": "https://localhost:8080/",
          "height": 39
        },
        "id": "1SUlqFzRfhOq",
        "outputId": "811f0a1b-1b5a-40ef-d602-8432ed1a731f"
      },
      "outputs": [
        {
          "output_type": "execute_result",
          "data": {
            "text/plain": [
              " -a⋅t\n",
              "ℯ    "
            ],
            "text/latex": "$\\displaystyle e^{- a t}$"
          },
          "metadata": {},
          "execution_count": 6
        }
      ],
      "source": [
        "f = sympy.exp(-a*t) #declaración de una función f como e^(-at)\n",
        "f #impresión de la función f"
      ]
    },
    {
      "cell_type": "markdown",
      "metadata": {
        "id": "k4_P6DO3fhOq"
      },
      "source": [
        "Podemos evaluar usando `integrate`:"
      ]
    },
    {
      "cell_type": "code",
      "execution_count": 8,
      "metadata": {
        "colab": {
          "base_uri": "https://localhost:8080/",
          "height": 89
        },
        "id": "_MNvG0jWfhOr",
        "outputId": "78493ff9-f19d-415a-b891-152b36536b77"
      },
      "outputs": [
        {
          "output_type": "execute_result",
          "data": {
            "text/plain": [
              "⎧       1                         π\n",
              "⎪   ─────────      for │arg(s)│ ≤ ─\n",
              "⎪     ⎛a    ⎞                     2\n",
              "⎪   s⋅⎜─ + 1⎟                      \n",
              "⎪     ⎝s    ⎠                      \n",
              "⎪                                  \n",
              "⎨∞                                 \n",
              "⎪⌠                                 \n",
              "⎪⎮  -a⋅t  -s⋅t                     \n",
              "⎪⎮ ℯ    ⋅ℯ     dt     otherwise    \n",
              "⎪⌡                                 \n",
              "⎪0                                 \n",
              "⎩                                  "
            ],
            "text/latex": "$\\displaystyle \\begin{cases} \\frac{1}{s \\left(\\frac{a}{s} + 1\\right)} & \\text{for}\\: \\left|{\\arg{\\left(s \\right)}}\\right| \\leq \\frac{\\pi}{2} \\\\\\int\\limits_{0}^{\\infty} e^{- a t} e^{- s t}\\, dt & \\text{otherwise} \\end{cases}$"
          },
          "metadata": {},
          "execution_count": 8
        }
      ],
      "source": [
        "sympy.integrate(f*sympy.exp(-s*t), (t, 0, sympy.oo)) #cálculo de la transformada de Laplace"
      ]
    },
    {
      "cell_type": "markdown",
      "metadata": {
        "id": "QR8S1VSzfhOr"
      },
      "source": [
        "### Libraría"
      ]
    },
    {
      "cell_type": "code",
      "execution_count": 9,
      "metadata": {
        "colab": {
          "base_uri": "https://localhost:8080/",
          "height": 58
        },
        "id": "mQ6saDEofhOr",
        "outputId": "c6001719-4f3f-44ef-aed6-69f00e22ede1"
      },
      "outputs": [
        {
          "output_type": "execute_result",
          "data": {
            "text/plain": [
              "⎛  1            ⎞\n",
              "⎜─────, -a, True⎟\n",
              "⎝a + s          ⎠"
            ],
            "text/latex": "$\\displaystyle \\left( \\frac{1}{a + s}, \\  - a, \\  \\text{True}\\right)$"
          },
          "metadata": {},
          "execution_count": 9
        }
      ],
      "source": [
        "sympy.laplace_transform(f, t, s) #cálculo de la transformafa de Laplace con la función de sympy"
      ]
    },
    {
      "cell_type": "markdown",
      "metadata": {
        "id": "aPWm6IoZfhOr"
      },
      "source": [
        "Si solo queremos la función, usamos `noconds=True`."
      ]
    },
    {
      "cell_type": "code",
      "execution_count": 10,
      "metadata": {
        "colab": {
          "base_uri": "https://localhost:8080/",
          "height": 52
        },
        "id": "4IQxZUjEfhOs",
        "outputId": "b944277b-6858-409a-d596-64ac0403f15b"
      },
      "outputs": [
        {
          "output_type": "execute_result",
          "data": {
            "text/plain": [
              "  1  \n",
              "─────\n",
              "a + s"
            ],
            "text/latex": "$\\displaystyle \\frac{1}{a + s}$"
          },
          "metadata": {},
          "execution_count": 10
        }
      ],
      "source": [
        "F = sympy.laplace_transform(f, t, s, noconds=True) #No toma el cuenta el dominio de la función en el que la transformada es válida y solo se imprime el reusltado.\n",
        "F"
      ]
    },
    {
      "cell_type": "markdown",
      "metadata": {
        "id": "S_zDpwlDfhOs"
      },
      "source": [
        "Para hacerlo más rápido:"
      ]
    },
    {
      "cell_type": "code",
      "execution_count": 13,
      "metadata": {
        "id": "nJOzIpYKfhOs"
      },
      "outputs": [],
      "source": [
        "def L(f):\n",
        "    return sympy.laplace_transform(f, t, s, noconds=True)\n",
        "    #Se declara a la transfromada de Laplace como L(f) para así solo \"llamarla\""
      ]
    },
    {
      "cell_type": "code",
      "execution_count": 14,
      "metadata": {
        "id": "khLZAwlYfhOs"
      },
      "outputs": [],
      "source": [
        "def invL(F):\n",
        "    return sympy.inverse_laplace_transform(F, s, t)\n",
        "    #Se declara a la inversa de la transfromada de Laplace como L(f) para así solo \"llamarla\""
      ]
    },
    {
      "cell_type": "code",
      "execution_count": 15,
      "metadata": {
        "colab": {
          "base_uri": "https://localhost:8080/",
          "height": 39
        },
        "id": "eGMdJaWlfhOs",
        "outputId": "c7972af8-6de6-4278-ed98-c42d6d9e8244"
      },
      "outputs": [
        {
          "output_type": "execute_result",
          "data": {
            "text/plain": [
              " -a⋅t     \n",
              "ℯ    ⋅θ(t)"
            ],
            "text/latex": "$\\displaystyle e^{- a t} \\theta\\left(t\\right)$"
          },
          "metadata": {},
          "execution_count": 15
        }
      ],
      "source": [
        "invL(F) #cálculo de la inversa de la Transformada de Laplace"
      ]
    },
    {
      "cell_type": "markdown",
      "metadata": {
        "id": "AAu0ff-BfhOs"
      },
      "source": [
        "### Función Escalón"
      ]
    },
    {
      "cell_type": "code",
      "execution_count": 16,
      "metadata": {
        "colab": {
          "base_uri": "https://localhost:8080/",
          "height": 39
        },
        "id": "0CNnJyVufhOt",
        "outputId": "f9397e85-ad2a-4b96-d122-ccb466159fa6"
      },
      "outputs": [
        {
          "output_type": "execute_result",
          "data": {
            "text/plain": [
              "θ(t)"
            ],
            "text/latex": "$\\displaystyle \\theta\\left(t\\right)$"
          },
          "metadata": {},
          "execution_count": 16
        }
      ],
      "source": [
        "sympy.Heaviside(t) #función escalón"
      ]
    },
    {
      "cell_type": "code",
      "execution_count": 18,
      "metadata": {
        "colab": {
          "base_uri": "https://localhost:8080/",
          "height": 484
        },
        "id": "Ju5oLycZfhOt",
        "outputId": "0dd8bab3-5d70-42cb-c890-5ce0b33f63ed"
      },
      "outputs": [
        {
          "output_type": "display_data",
          "data": {
            "text/plain": [
              "<Figure size 640x480 with 1 Axes>"
            ],
            "image/png": "[encoded data removed]"
          },
          "metadata": {}
        }
      ],
      "source": [
        "sympy.plot(sympy.Heaviside(t)); #Grafica de la función Heaviside"
      ]
    },
    {
      "cell_type": "code",
      "execution_count": 19,
      "metadata": {
        "colab": {
          "base_uri": "https://localhost:8080/",
          "height": 39
        },
        "id": "t0DvUk0HfhOt",
        "outputId": "d97f56de-d21c-4b44-b80c-dc9adab5c764"
      },
      "outputs": [
        {
          "output_type": "execute_result",
          "data": {
            "text/plain": [
              " -2⋅t     \n",
              "ℯ    ⋅θ(t)"
            ],
            "text/latex": "$\\displaystyle e^{- 2 t} \\theta\\left(t\\right)$"
          },
          "metadata": {},
          "execution_count": 19
        }
      ],
      "source": [
        "invL(F).subs({a: 2}) #Cálculo de la inversa de la transformada de Laplace con a=2"
      ]
    },
    {
      "cell_type": "code",
      "execution_count": 32,
      "metadata": {
        "colab": {
          "base_uri": "https://localhost:8080/",
          "height": 487
        },
        "id": "wFiDPjz0fhOt",
        "outputId": "ae419887-d84b-486c-ac94-1523ade0a0ff"
      },
      "outputs": [
        {
          "output_type": "display_data",
          "data": {
            "text/plain": [
              "<Figure size 640x480 with 1 Axes>"
            ],
            "image/png": "[encoded data removed]"
          },
          "metadata": {}
        }
      ],
      "source": [
        "p = sympy.plot(f.subs({a: 2}), invL(F).subs({a: 2}),\n",
        "               xlim=(-1, 4), ylim=(0, 3), show=False)\n",
        "#xlim y ylim determinan los límites de los ejes\n",
        "p[0].line_color = 'red'\n",
        "p.show()\n",
        "#Gráfica de la función f y de la inversa de la transformada de Laplace con a=2, además f es graficada de color rojo."
      ]
    },
    {
      "cell_type": "markdown",
      "metadata": {
        "id": "Nf4o9JFEfhOt"
      },
      "source": [
        "### Tabla"
      ]
    },
    {
      "cell_type": "code",
      "execution_count": 34,
      "metadata": {
        "colab": {
          "base_uri": "https://localhost:8080/",
          "height": 39
        },
        "id": "cLcuVr0yfhOt",
        "outputId": "8471a9b7-eb8e-49f3-d6c3-f5cd4a967f3b"
      },
      "outputs": [
        {
          "output_type": "execute_result",
          "data": {
            "text/plain": [
              "⎡       -a⋅t     -a⋅t   2  -a⋅t                           -a⋅t   -a⋅t            -a⋅t         ⎤\n",
              "⎣1, t, ℯ    , t⋅ℯ    , t ⋅ℯ    , sin(ω⋅t), cos(ω⋅t), 1 - ℯ    , ℯ    ⋅sin(ω⋅t), ℯ    ⋅cos(ω⋅t)⎦"
            ],
            "text/latex": "$\\displaystyle \\left[ 1, \\  t, \\  e^{- a t}, \\  t e^{- a t}, \\  t^{2} e^{- a t}, \\  \\sin{\\left(\\omega t \\right)}, \\  \\cos{\\left(\\omega t \\right)}, \\  1 - e^{- a t}, \\  e^{- a t} \\sin{\\left(\\omega t \\right)}, \\  e^{- a t} \\cos{\\left(\\omega t \\right)}\\right]$"
          },
          "metadata": {},
          "execution_count": 34
        }
      ],
      "source": [
        "omega = sympy.Symbol('omega', real=True) #Declaración de la variable omega como número real\n",
        "exp = sympy.exp\n",
        "sin = sympy.sin\n",
        "cos = sympy.cos\n",
        "functions = [1,\n",
        "         t,\n",
        "         exp(-a*t),\n",
        "         t*exp(-a*t),\n",
        "         t**2*exp(-a*t),\n",
        "         sin(omega*t),\n",
        "         cos(omega*t),\n",
        "         1 - exp(-a*t),\n",
        "         exp(-a*t)*sin(omega*t),\n",
        "         exp(-a*t)*cos(omega*t),\n",
        "         ]\n",
        "functions #Expresión de las funciones declaradas en lista"
      ]
    },
    {
      "cell_type": "code",
      "execution_count": 36,
      "metadata": {
        "colab": {
          "base_uri": "https://localhost:8080/",
          "height": 68
        },
        "id": "vd25PlSXfhOu",
        "outputId": "c9d63d95-8ee4-4ce0-f69b-e30e5f25f5ac"
      },
      "outputs": [
        {
          "output_type": "execute_result",
          "data": {
            "text/plain": [
              "⎡1  1     1       1         2         ω        s         1     1        ω            a + s    ⎤\n",
              "⎢─, ──, ─────, ────────, ────────, ───────, ───────, - ───── + ─, ─────────────, ─────────────⎥\n",
              "⎢s   2  a + s         2         3   2    2   2    2    a + s   s   2          2   2          2⎥\n",
              "⎣   s          (a + s)   (a + s)   ω  + s   ω  + s                ω  + (a + s)   ω  + (a + s) ⎦"
            ],
            "text/latex": "$\\displaystyle \\left[ \\frac{1}{s}, \\  \\frac{1}{s^{2}}, \\  \\frac{1}{a + s}, \\  \\frac{1}{\\left(a + s\\right)^{2}}, \\  \\frac{2}{\\left(a + s\\right)^{3}}, \\  \\frac{\\omega}{\\omega^{2} + s^{2}}, \\  \\frac{s}{\\omega^{2} + s^{2}}, \\  - \\frac{1}{a + s} + \\frac{1}{s}, \\  \\frac{\\omega}{\\omega^{2} + \\left(a + s\\right)^{2}}, \\  \\frac{a + s}{\\omega^{2} + \\left(a + s\\right)^{2}}\\right]$"
          },
          "metadata": {},
          "execution_count": 36
        }
      ],
      "source": [
        "Fs = [L(f) for f in functions]\n",
        "Fs #Cálculo de la Transformada de Laplace de las funciones anteriores, y expresión de los resultados en lista"
      ]
    },
    {
      "cell_type": "markdown",
      "metadata": {
        "id": "Y1LlPP8bfhOu"
      },
      "source": [
        "pandas"
      ]
    },
    {
      "cell_type": "code",
      "execution_count": 37,
      "metadata": {
        "id": "pkcuP0WDfhOu"
      },
      "outputs": [],
      "source": [
        "from pandas import DataFrame #genera una tabla en la que sus filas y columnas tienen nombre"
      ]
    },
    {
      "cell_type": "code",
      "execution_count": 38,
      "metadata": {
        "id": "fYo1eBOFfhOu"
      },
      "outputs": [],
      "source": [
        "def makelatex(args):\n",
        "    return [\"$${}$$\".format(sympy.latex(a)) for a in args] #texto excrito como si se usara latex"
      ]
    },
    {
      "cell_type": "code",
      "execution_count": 41,
      "metadata": {
        "colab": {
          "base_uri": "https://localhost:8080/",
          "height": 363
        },
        "id": "9SuMEGCYfhOu",
        "outputId": "7d271bdf-06dd-44a0-ed42-36de4beaa788"
      },
      "outputs": [
        {
          "output_type": "execute_result",
          "data": {
            "text/plain": [
              "                                            0  \\\n",
              "0                                       $$1$$   \n",
              "1                                       $$t$$   \n",
              "2                               $$e^{- a t}$$   \n",
              "3                             $$t e^{- a t}$$   \n",
              "4                         $$t^{2} e^{- a t}$$   \n",
              "5            $$\\sin{\\left(\\omega t \\right)}$$   \n",
              "6            $$\\cos{\\left(\\omega t \\right)}$$   \n",
              "7                           $$1 - e^{- a t}$$   \n",
              "8  $$e^{- a t} \\sin{\\left(\\omega t \\right)}$$   \n",
              "9  $$e^{- a t} \\cos{\\left(\\omega t \\right)}$$   \n",
              "\n",
              "                                                   1  \n",
              "0                                    $$\\frac{1}{s}$$  \n",
              "1                                $$\\frac{1}{s^{2}}$$  \n",
              "2                                $$\\frac{1}{a + s}$$  \n",
              "3               $$\\frac{1}{\\left(a + s\\right)^{2}}$$  \n",
              "4               $$\\frac{2}{\\left(a + s\\right)^{3}}$$  \n",
              "5              $$\\frac{\\omega}{\\omega^{2} + s^{2}}$$  \n",
              "6                   $$\\frac{s}{\\omega^{2} + s^{2}}$$  \n",
              "7                $$- \\frac{1}{a + s} + \\frac{1}{s}$$  \n",
              "8  $$\\frac{\\omega}{\\omega^{2} + \\left(a + s\\right...  \n",
              "9  $$\\frac{a + s}{\\omega^{2} + \\left(a + s\\right)...  "
            ],
            "text/html": [
              "\n",
              "  <div id=\"df-1e7aa939-3f2e-4c91-b228-99cca05fb15c\" class=\"colab-df-container\">\n",
              "    <div>\n",
              "<style scoped>\n",
              "    .dataframe tbody tr th:only-of-type {\n",
              "        vertical-align: middle;\n",
              "    }\n",
              "\n",
              "    .dataframe tbody tr th {\n",
              "        vertical-align: top;\n",
              "    }\n",
              "\n",
              "    .dataframe thead th {\n",
              "        text-align: right;\n",
              "    }\n",
              "</style>\n",
              "<table border=\"1\" class=\"dataframe\">\n",
              "  <thead>\n",
              "    <tr style=\"text-align: right;\">\n",
              "      <th></th>\n",
              "      <th>0</th>\n",
              "      <th>1</th>\n",
              "    </tr>\n",
              "  </thead>\n",
              "  <tbody>\n",
              "    <tr>\n",
              "      <th>0</th>\n",
              "      <td>$$1$$</td>\n",
              "      <td>$$\\frac{1}{s}$$</td>\n",
              "    </tr>\n",
              "    <tr>\n",
              "      <th>1</th>\n",
              "      <td>$$t$$</td>\n",
              "      <td>$$\\frac{1}{s^{2}}$$</td>\n",
              "    </tr>\n",
              "    <tr>\n",
              "      <th>2</th>\n",
              "      <td>$$e^{- a t}$$</td>\n",
              "      <td>$$\\frac{1}{a + s}$$</td>\n",
              "    </tr>\n",
              "    <tr>\n",
              "      <th>3</th>\n",
              "      <td>$$t e^{- a t}$$</td>\n",
              "      <td>$$\\frac{1}{\\left(a + s\\right)^{2}}$$</td>\n",
              "    </tr>\n",
              "    <tr>\n",
              "      <th>4</th>\n",
              "      <td>$$t^{2} e^{- a t}$$</td>\n",
              "      <td>$$\\frac{2}{\\left(a + s\\right)^{3}}$$</td>\n",
              "    </tr>\n",
              "    <tr>\n",
              "      <th>5</th>\n",
              "      <td>$$\\sin{\\left(\\omega t \\right)}$$</td>\n",
              "      <td>$$\\frac{\\omega}{\\omega^{2} + s^{2}}$$</td>\n",
              "    </tr>\n",
              "    <tr>\n",
              "      <th>6</th>\n",
              "      <td>$$\\cos{\\left(\\omega t \\right)}$$</td>\n",
              "      <td>$$\\frac{s}{\\omega^{2} + s^{2}}$$</td>\n",
              "    </tr>\n",
              "    <tr>\n",
              "      <th>7</th>\n",
              "      <td>$$1 - e^{- a t}$$</td>\n",
              "      <td>$$- \\frac{1}{a + s} + \\frac{1}{s}$$</td>\n",
              "    </tr>\n",
              "    <tr>\n",
              "      <th>8</th>\n",
              "      <td>$$e^{- a t} \\sin{\\left(\\omega t \\right)}$$</td>\n",
              "      <td>$$\\frac{\\omega}{\\omega^{2} + \\left(a + s\\right...</td>\n",
              "    </tr>\n",
              "    <tr>\n",
              "      <th>9</th>\n",
              "      <td>$$e^{- a t} \\cos{\\left(\\omega t \\right)}$$</td>\n",
              "      <td>$$\\frac{a + s}{\\omega^{2} + \\left(a + s\\right)...</td>\n",
              "    </tr>\n",
              "  </tbody>\n",
              "</table>\n",
              "</div>\n",
              "    <div class=\"colab-df-buttons\">\n",
              "\n",
              "  <div class=\"colab-df-container\">\n",
              "    <button class=\"colab-df-convert\" onclick=\"convertToInteractive('df-1e7aa939-3f2e-4c91-b228-99cca05fb15c')\"\n",
              "            title=\"Convert this dataframe to an interactive table.\"\n",
              "            style=\"display:none;\">\n",
              "\n",
              "  <svg xmlns=\"http://www.w3.org/2000/svg\" height=\"24px\" viewBox=\"0 -960 960 960\">\n",
              "    <path d=\"M120-120v-720h720v720H120Zm60-500h600v-160H180v160Zm220 220h160v-160H400v160Zm0 220h160v-160H400v160ZM180-400h160v-160H180v160Zm440 0h160v-160H620v160ZM180-180h160v-160H180v160Zm440 0h160v-160H620v160Z\"/>\n",
              "  </svg>\n",
              "    </button>\n",
              "\n",
              "  <style>\n",
              "    .colab-df-container {\n",
              "      display:flex;\n",
              "      gap: 12px;\n",
              "    }\n",
              "\n",
              "    .colab-df-convert {\n",
              "      background-color: #E8F0FE;\n",
              "      border: none;\n",
              "      border-radius: 50%;\n",
              "      cursor: pointer;\n",
              "      display: none;\n",
              "      fill: #1967D2;\n",
              "      height: 32px;\n",
              "      padding: 0 0 0 0;\n",
              "      width: 32px;\n",
              "    }\n",
              "\n",
              "    .colab-df-convert:hover {\n",
              "      background-color: #E2EBFA;\n",
              "      box-shadow: 0px 1px 2px rgba(60, 64, 67, 0.3), 0px 1px 3px 1px rgba(60, 64, 67, 0.15);\n",
              "      fill: #174EA6;\n",
              "    }\n",
              "\n",
              "    .colab-df-buttons div {\n",
              "      margin-bottom: 4px;\n",
              "    }\n",
              "\n",
              "    [theme=dark] .colab-df-convert {\n",
              "      background-color: #3B4455;\n",
              "      fill: #D2E3FC;\n",
              "    }\n",
              "\n",
              "    [theme=dark] .colab-df-convert:hover {\n",
              "      background-color: #434B5C;\n",
              "      box-shadow: 0px 1px 3px 1px rgba(0, 0, 0, 0.15);\n",
              "      filter: drop-shadow(0px 1px 2px rgba(0, 0, 0, 0.3));\n",
              "      fill: #FFFFFF;\n",
              "    }\n",
              "  </style>\n",
              "\n",
              "    <script>\n",
              "      const buttonEl =\n",
              "        document.querySelector('#df-1e7aa939-3f2e-4c91-b228-99cca05fb15c button.colab-df-convert');\n",
              "      buttonEl.style.display =\n",
              "        google.colab.kernel.accessAllowed ? 'block' : 'none';\n",
              "\n",
              "      async function convertToInteractive(key) {\n",
              "        const element = document.querySelector('#df-1e7aa939-3f2e-4c91-b228-99cca05fb15c');\n",
              "        const dataTable =\n",
              "          await google.colab.kernel.invokeFunction('convertToInteractive',\n",
              "                                                    [key], {});\n",
              "        if (!dataTable) return;\n",
              "\n",
              "        const docLinkHtml = 'Like what you see? Visit the ' +\n",
              "          '<a target=\"_blank\" href=https://colab.research.google.com/notebooks/data_table.ipynb>data table notebook</a>'\n",
              "          + ' to learn more about interactive tables.';\n",
              "        element.innerHTML = '';\n",
              "        dataTable['output_type'] = 'display_data';\n",
              "        await google.colab.output.renderOutput(dataTable, element);\n",
              "        const docLink = document.createElement('div');\n",
              "        docLink.innerHTML = docLinkHtml;\n",
              "        element.appendChild(docLink);\n",
              "      }\n",
              "    </script>\n",
              "  </div>\n",
              "\n",
              "\n",
              "<div id=\"df-e673262d-d14d-4d09-8581-155c80bc0c78\">\n",
              "  <button class=\"colab-df-quickchart\" onclick=\"quickchart('df-e673262d-d14d-4d09-8581-155c80bc0c78')\"\n",
              "            title=\"Suggest charts\"\n",
              "            style=\"display:none;\">\n",
              "\n",
              "<svg xmlns=\"http://www.w3.org/2000/svg\" height=\"24px\"viewBox=\"0 0 24 24\"\n",
              "     width=\"24px\">\n",
              "    <g>\n",
              "        <path d=\"M19 3H5c-1.1 0-2 .9-2 2v14c0 1.1.9 2 2 2h14c1.1 0 2-.9 2-2V5c0-1.1-.9-2-2-2zM9 17H7v-7h2v7zm4 0h-2V7h2v10zm4 0h-2v-4h2v4z\"/>\n",
              "    </g>\n",
              "</svg>\n",
              "  </button>\n",
              "\n",
              "<style>\n",
              "  .colab-df-quickchart {\n",
              "      --bg-color: #E8F0FE;\n",
              "      --fill-color: #1967D2;\n",
              "      --hover-bg-color: #E2EBFA;\n",
              "      --hover-fill-color: #174EA6;\n",
              "      --disabled-fill-color: #AAA;\n",
              "      --disabled-bg-color: #DDD;\n",
              "  }\n",
              "\n",
              "  [theme=dark] .colab-df-quickchart {\n",
              "      --bg-color: #3B4455;\n",
              "      --fill-color: #D2E3FC;\n",
              "      --hover-bg-color: #434B5C;\n",
              "      --hover-fill-color: #FFFFFF;\n",
              "      --disabled-bg-color: #3B4455;\n",
              "      --disabled-fill-color: #666;\n",
              "  }\n",
              "\n",
              "  .colab-df-quickchart {\n",
              "    background-color: var(--bg-color);\n",
              "    border: none;\n",
              "    border-radius: 50%;\n",
              "    cursor: pointer;\n",
              "    display: none;\n",
              "    fill: var(--fill-color);\n",
              "    height: 32px;\n",
              "    padding: 0;\n",
              "    width: 32px;\n",
              "  }\n",
              "\n",
              "  .colab-df-quickchart:hover {\n",
              "    background-color: var(--hover-bg-color);\n",
              "    box-shadow: 0 1px 2px rgba(60, 64, 67, 0.3), 0 1px 3px 1px rgba(60, 64, 67, 0.15);\n",
              "    fill: var(--button-hover-fill-color);\n",
              "  }\n",
              "\n",
              "  .colab-df-quickchart-complete:disabled,\n",
              "  .colab-df-quickchart-complete:disabled:hover {\n",
              "    background-color: var(--disabled-bg-color);\n",
              "    fill: var(--disabled-fill-color);\n",
              "    box-shadow: none;\n",
              "  }\n",
              "\n",
              "  .colab-df-spinner {\n",
              "    border: 2px solid var(--fill-color);\n",
              "    border-color: transparent;\n",
              "    border-bottom-color: var(--fill-color);\n",
              "    animation:\n",
              "      spin 1s steps(1) infinite;\n",
              "  }\n",
              "\n",
              "  @keyframes spin {\n",
              "    0% {\n",
              "      border-color: transparent;\n",
              "      border-bottom-color: var(--fill-color);\n",
              "      border-left-color: var(--fill-color);\n",
              "    }\n",
              "    20% {\n",
              "      border-color: transparent;\n",
              "      border-left-color: var(--fill-color);\n",
              "      border-top-color: var(--fill-color);\n",
              "    }\n",
              "    30% {\n",
              "      border-color: transparent;\n",
              "      border-left-color: var(--fill-color);\n",
              "      border-top-color: var(--fill-color);\n",
              "      border-right-color: var(--fill-color);\n",
              "    }\n",
              "    40% {\n",
              "      border-color: transparent;\n",
              "      border-right-color: var(--fill-color);\n",
              "      border-top-color: var(--fill-color);\n",
              "    }\n",
              "    60% {\n",
              "      border-color: transparent;\n",
              "      border-right-color: var(--fill-color);\n",
              "    }\n",
              "    80% {\n",
              "      border-color: transparent;\n",
              "      border-right-color: var(--fill-color);\n",
              "      border-bottom-color: var(--fill-color);\n",
              "    }\n",
              "    90% {\n",
              "      border-color: transparent;\n",
              "      border-bottom-color: var(--fill-color);\n",
              "    }\n",
              "  }\n",
              "</style>\n",
              "\n",
              "  <script>\n",
              "    async function quickchart(key) {\n",
              "      const quickchartButtonEl =\n",
              "        document.querySelector('#' + key + ' button');\n",
              "      quickchartButtonEl.disabled = true;  // To prevent multiple clicks.\n",
              "      quickchartButtonEl.classList.add('colab-df-spinner');\n",
              "      try {\n",
              "        const charts = await google.colab.kernel.invokeFunction(\n",
              "            'suggestCharts', [key], {});\n",
              "      } catch (error) {\n",
              "        console.error('Error during call to suggestCharts:', error);\n",
              "      }\n",
              "      quickchartButtonEl.classList.remove('colab-df-spinner');\n",
              "      quickchartButtonEl.classList.add('colab-df-quickchart-complete');\n",
              "    }\n",
              "    (() => {\n",
              "      let quickchartButtonEl =\n",
              "        document.querySelector('#df-e673262d-d14d-4d09-8581-155c80bc0c78 button');\n",
              "      quickchartButtonEl.style.display =\n",
              "        google.colab.kernel.accessAllowed ? 'block' : 'none';\n",
              "    })();\n",
              "  </script>\n",
              "</div>\n",
              "\n",
              "    </div>\n",
              "  </div>\n"
            ],
            "application/vnd.google.colaboratory.intrinsic+json": {
              "type": "dataframe",
              "summary": "{\n  \"name\": \"#zip toma a las dos listas de funciones y forma \\\"parejas\\\"\",\n  \"rows\": 10,\n  \"fields\": [\n    {\n      \"column\": 0,\n      \"properties\": {\n        \"dtype\": \"string\",\n        \"num_unique_values\": 10,\n        \"samples\": [\n          \"$$e^{- a t} \\\\sin{\\\\left(\\\\omega t \\\\right)}$$\",\n          \"$$t$$\",\n          \"$$\\\\sin{\\\\left(\\\\omega t \\\\right)}$$\"\n        ],\n        \"semantic_type\": \"\",\n        \"description\": \"\"\n      }\n    },\n    {\n      \"column\": 1,\n      \"properties\": {\n        \"dtype\": \"string\",\n        \"num_unique_values\": 10,\n        \"samples\": [\n          \"$$\\\\frac{\\\\omega}{\\\\omega^{2} + \\\\left(a + s\\\\right)^{2}}$$\",\n          \"$$\\\\frac{1}{s^{2}}$$\",\n          \"$$\\\\frac{\\\\omega}{\\\\omega^{2} + s^{2}}$$\"\n        ],\n        \"semantic_type\": \"\",\n        \"description\": \"\"\n      }\n    }\n  ]\n}"
            }
          },
          "metadata": {},
          "execution_count": 41
        }
      ],
      "source": [
        "DataFrame(list(zip(makelatex(functions), makelatex(Fs))))\n",
        "#makelatex (functions) toma a las funciones y las escribe como en latex\n",
        "#makelatex (Functions) toma a las transformadas y las escribe como en latex\n",
        "#zip toma a las dos listas de funciones y forma \"parejas\""
      ]
    },
    {
      "cell_type": "markdown",
      "metadata": {
        "id": "7Xjyn-xxfhOu"
      },
      "source": [
        "### Más complicadas"
      ]
    },
    {
      "cell_type": "code",
      "execution_count": 42,
      "metadata": {
        "id": "5uTYbN12fhOu"
      },
      "outputs": [],
      "source": [
        "F = ((s + 1)*(s + 2)* (s + 3))/((s + 4)*(s + 5)*(s + 6)) #expresión de la función F"
      ]
    },
    {
      "cell_type": "code",
      "execution_count": 43,
      "metadata": {
        "colab": {
          "base_uri": "https://localhost:8080/",
          "height": 57
        },
        "id": "reMr8ylkfhOu",
        "outputId": "8f7e581f-8dfa-41a3-acfe-ed7210473ed7"
      },
      "outputs": [
        {
          "output_type": "execute_result",
          "data": {
            "text/plain": [
              "(s + 1)⋅(s + 2)⋅(s + 3)\n",
              "───────────────────────\n",
              "(s + 4)⋅(s + 5)⋅(s + 6)"
            ],
            "text/latex": "$\\displaystyle \\frac{\\left(s + 1\\right) \\left(s + 2\\right) \\left(s + 3\\right)}{\\left(s + 4\\right) \\left(s + 5\\right) \\left(s + 6\\right)}$"
          },
          "metadata": {},
          "execution_count": 43
        }
      ],
      "source": [
        "F"
      ]
    },
    {
      "cell_type": "code",
      "execution_count": 46,
      "metadata": {
        "colab": {
          "base_uri": "https://localhost:8080/",
          "height": 52
        },
        "id": "y3uf5R_PfhOu",
        "outputId": "6d6400fe-14b5-4aba-af76-682cd383f5ef"
      },
      "outputs": [
        {
          "output_type": "execute_result",
          "data": {
            "text/plain": [
              "     30      24       3  \n",
              "1 - ───── + ───── - ─────\n",
              "    s + 6   s + 5   s + 4"
            ],
            "text/latex": "$\\displaystyle 1 - \\frac{30}{s + 6} + \\frac{24}{s + 5} - \\frac{3}{s + 4}$"
          },
          "metadata": {},
          "execution_count": 46
        }
      ],
      "source": [
        "F.apart(s) #Fracciones parciales"
      ]
    },
    {
      "cell_type": "code",
      "execution_count": 47,
      "metadata": {
        "colab": {
          "base_uri": "https://localhost:8080/",
          "height": 39
        },
        "id": "JWlr52yqfhOv",
        "outputId": "d03bdcf1-40e8-4d65-ee59-6637248ca790"
      },
      "outputs": [
        {
          "output_type": "execute_result",
          "data": {
            "text/plain": [
              "          -4⋅t            -5⋅t            -6⋅t     \n",
              "δ(t) - 3⋅ℯ    ⋅θ(t) + 24⋅ℯ    ⋅θ(t) - 30⋅ℯ    ⋅θ(t)"
            ],
            "text/latex": "$\\displaystyle \\delta\\left(t\\right) - 3 e^{- 4 t} \\theta\\left(t\\right) + 24 e^{- 5 t} \\theta\\left(t\\right) - 30 e^{- 6 t} \\theta\\left(t\\right)$"
          },
          "metadata": {},
          "execution_count": 47
        }
      ],
      "source": [
        "invL(F) #Cálculo de la transformada inversa de F"
      ]
    }
  ],
  "metadata": {
    "anaconda-cloud": {},
    "kernelspec": {
      "display_name": "Python 3 (ipykernel)",
      "language": "python",
      "name": "python3"
    },
    "language_info": {
      "codemirror_mode": {
        "name": "ipython",
        "version": 3
      },
      "file_extension": ".py",
      "mimetype": "text/x-python",
      "name": "python",
      "nbconvert_exporter": "python",
      "pygments_lexer": "ipython3",
      "version": "3.7.3"
    },
    "colab": {
      "provenance": [],
      "include_colab_link": true
    }
  },
  "nbformat": 4,
  "nbformat_minor": 0
}