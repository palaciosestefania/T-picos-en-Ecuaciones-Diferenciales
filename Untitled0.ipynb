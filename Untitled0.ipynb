{
  "nbformat": 4,
  "nbformat_minor": 0,
  "metadata": {
    "colab": {
      "provenance": [],
      "authorship_tag": "ABX9TyPhknrrDaEwJBCx6hEyAMFM",
      "include_colab_link": true
    },
    "kernelspec": {
      "name": "python3",
      "display_name": "Python 3"
    },
    "language_info": {
      "name": "python"
    }
  },
  "cells": [
    {
      "cell_type": "markdown",
      "metadata": {
        "id": "view-in-github",
        "colab_type": "text"
      },
      "source": [
        "<a href=\"https://colab.research.google.com/github/palaciosestefania/T-picos-en-Ecuaciones-Diferenciales/blob/main/Untitled0.ipynb\" target=\"_parent\"><img src=\"https://colab.research.google.com/assets/colab-badge.svg\" alt=\"Open In Colab\"/></a>"
      ]
    },
    {
      "cell_type": "markdown",
      "source": [
        "### La última sección del documento es la Actividad 4."
      ],
      "metadata": {
        "id": "kYhtj9VQvrKe"
      }
    },
    {
      "cell_type": "code",
      "source": [
        "import sympy as sp #librería para matemáticas simbólicas"
      ],
      "metadata": {
        "id": "n4TjjjTO5Yke"
      },
      "execution_count": 1,
      "outputs": []
    },
    {
      "cell_type": "code",
      "source": [
        "x = sp.Symbol('x') #Decaración de variables\n",
        "y = sp.Symbol('y')"
      ],
      "metadata": {
        "id": "M8hHJo735d75"
      },
      "execution_count": 2,
      "outputs": []
    },
    {
      "cell_type": "code",
      "source": [
        "(x+y)**2 #expresión en binomio"
      ],
      "metadata": {
        "colab": {
          "base_uri": "https://localhost:8080/",
          "height": 40
        },
        "id": "7O1z6xYJ5vpO",
        "outputId": "251a505b-b19e-4ad0-cbef-55c8eab262cc"
      },
      "execution_count": 3,
      "outputs": [
        {
          "output_type": "execute_result",
          "data": {
            "text/plain": [
              "(x + y)**2"
            ],
            "text/latex": "$\\displaystyle \\left(x + y\\right)^{2}$"
          },
          "metadata": {},
          "execution_count": 3
        }
      ]
    },
    {
      "cell_type": "code",
      "source": [
        "((x+y)**2).expand() #expansión del binomio"
      ],
      "metadata": {
        "colab": {
          "base_uri": "https://localhost:8080/",
          "height": 39
        },
        "id": "c6_7Vp9z50KO",
        "outputId": "6e41c8e2-b776-4db9-cbc8-06e9f533dad1"
      },
      "execution_count": 4,
      "outputs": [
        {
          "output_type": "execute_result",
          "data": {
            "text/plain": [
              "x**2 + 2*x*y + y**2"
            ],
            "text/latex": "$\\displaystyle x^{2} + 2 x y + y^{2}$"
          },
          "metadata": {},
          "execution_count": 4
        }
      ]
    },
    {
      "cell_type": "code",
      "source": [
        "((x+y)**2).subs(x, 1) #x con valor 1"
      ],
      "metadata": {
        "colab": {
          "base_uri": "https://localhost:8080/",
          "height": 40
        },
        "id": "-NDRwpfi54AZ",
        "outputId": "c4269183-5f2f-4bee-f263-041972e76505"
      },
      "execution_count": 5,
      "outputs": [
        {
          "output_type": "execute_result",
          "data": {
            "text/plain": [
              "(y + 1)**2"
            ],
            "text/latex": "$\\displaystyle \\left(y + 1\\right)^{2}$"
          },
          "metadata": {},
          "execution_count": 5
        }
      ]
    },
    {
      "cell_type": "code",
      "source": [
        "1/( (x+2)*(x+1) ) #expresión"
      ],
      "metadata": {
        "colab": {
          "base_uri": "https://localhost:8080/",
          "height": 55
        },
        "id": "CE1bHSFu58ZH",
        "outputId": "387f43b4-7c05-427c-d3bf-58bfa523ddcf"
      },
      "execution_count": 6,
      "outputs": [
        {
          "output_type": "execute_result",
          "data": {
            "text/plain": [
              "1/((x + 1)*(x + 2))"
            ],
            "text/latex": "$\\displaystyle \\frac{1}{\\left(x + 1\\right) \\left(x + 2\\right)}$"
          },
          "metadata": {},
          "execution_count": 6
        }
      ]
    },
    {
      "cell_type": "code",
      "source": [
        "sp.apart(1/( (x+2)*(x+1) ), x) #descompone la expresión en fracciones parciales con la variable x"
      ],
      "metadata": {
        "colab": {
          "base_uri": "https://localhost:8080/",
          "height": 52
        },
        "id": "xJZt7xkA6Ctu",
        "outputId": "23f6b536-be65-4008-cb59-ac2df3c92ad7"
      },
      "execution_count": 7,
      "outputs": [
        {
          "output_type": "execute_result",
          "data": {
            "text/plain": [
              "-1/(x + 2) + 1/(x + 1)"
            ],
            "text/latex": "$\\displaystyle - \\frac{1}{x + 2} + \\frac{1}{x + 1}$"
          },
          "metadata": {},
          "execution_count": 7
        }
      ]
    },
    {
      "cell_type": "code",
      "source": [
        "(x+1)/(x-1) #expresión"
      ],
      "metadata": {
        "colab": {
          "base_uri": "https://localhost:8080/",
          "height": 52
        },
        "id": "yt9RTCy26PHM",
        "outputId": "9d998bfe-56f4-4397-add6-a6e2a59caa86"
      },
      "execution_count": 8,
      "outputs": [
        {
          "output_type": "execute_result",
          "data": {
            "text/plain": [
              "(x + 1)/(x - 1)"
            ],
            "text/latex": "$\\displaystyle \\frac{x + 1}{x - 1}$"
          },
          "metadata": {},
          "execution_count": 8
        }
      ]
    },
    {
      "cell_type": "code",
      "source": [
        "sp.apart((x+1)/(x-1), x) #descompone en fracciones parciales"
      ],
      "metadata": {
        "colab": {
          "base_uri": "https://localhost:8080/",
          "height": 52
        },
        "id": "BgF-3Ehg6TcW",
        "outputId": "9576fb85-0df0-43bf-ecd6-016cabd43e86"
      },
      "execution_count": 9,
      "outputs": [
        {
          "output_type": "execute_result",
          "data": {
            "text/plain": [
              "1 + 2/(x - 1)"
            ],
            "text/latex": "$\\displaystyle 1 + \\frac{2}{x - 1}$"
          },
          "metadata": {},
          "execution_count": 9
        }
      ]
    },
    {
      "cell_type": "code",
      "source": [
        "sp.apart(36*x-1/(x**2 + 2*x + 5), x) #descompone en fracciones parciales"
      ],
      "metadata": {
        "colab": {
          "base_uri": "https://localhost:8080/",
          "height": 52
        },
        "id": "u3uhhAQG6YB5",
        "outputId": "124043f9-b337-4d9b-8fa0-de501453c8a6"
      },
      "execution_count": 10,
      "outputs": [
        {
          "output_type": "execute_result",
          "data": {
            "text/plain": [
              "36*x - 1/(x**2 + 2*x + 5)"
            ],
            "text/latex": "$\\displaystyle 36 x - \\frac{1}{x^{2} + 2 x + 5}$"
          },
          "metadata": {},
          "execution_count": 10
        }
      ]
    },
    {
      "cell_type": "code",
      "source": [
        "sp.factor(x**2 + 2*x + 5) #factoriza?"
      ],
      "metadata": {
        "colab": {
          "base_uri": "https://localhost:8080/",
          "height": 39
        },
        "id": "i4iQwdcq7WsY",
        "outputId": "d4729150-6bf5-4800-c65d-c80e7420421f"
      },
      "execution_count": 12,
      "outputs": [
        {
          "output_type": "execute_result",
          "data": {
            "text/plain": [
              "x**2 + 2*x + 5"
            ],
            "text/latex": "$\\displaystyle x^{2} + 2 x + 5$"
          },
          "metadata": {},
          "execution_count": 12
        }
      ]
    },
    {
      "cell_type": "code",
      "source": [
        "sp.simplify(x**2 + 2*x + 5) #simplifica la expresión"
      ],
      "metadata": {
        "colab": {
          "base_uri": "https://localhost:8080/",
          "height": 39
        },
        "id": "Pzoi9z5H60l8",
        "outputId": "fd8b17ff-634b-4e43-f0be-89ebf9e13306"
      },
      "execution_count": 13,
      "outputs": [
        {
          "output_type": "execute_result",
          "data": {
            "text/plain": [
              "x**2 + 2*x + 5"
            ],
            "text/latex": "$\\displaystyle x^{2} + 2 x + 5$"
          },
          "metadata": {},
          "execution_count": 13
        }
      ]
    },
    {
      "cell_type": "code",
      "source": [
        "sp.apart(36*x-4/((x+1)**2 + 4), x) #descompone en fracciones parciales"
      ],
      "metadata": {
        "colab": {
          "base_uri": "https://localhost:8080/",
          "height": 52
        },
        "id": "-A2_SzHX7P1T",
        "outputId": "0d0dc001-38c3-4938-aa8d-c8cc7f6e599b"
      },
      "execution_count": 14,
      "outputs": [
        {
          "output_type": "execute_result",
          "data": {
            "text/plain": [
              "36*x - 4/(x**2 + 2*x + 5)"
            ],
            "text/latex": "$\\displaystyle 36 x - \\frac{4}{x^{2} + 2 x + 5}$"
          },
          "metadata": {},
          "execution_count": 14
        }
      ]
    },
    {
      "cell_type": "code",
      "source": [
        "sp.apart((x**2 - 7*x + 24)/((x-1)*(x-2)*(x-4)), x) #descompone en fracciones parciales"
      ],
      "metadata": {
        "colab": {
          "base_uri": "https://localhost:8080/",
          "height": 52
        },
        "id": "s5IlVem772fu",
        "outputId": "02825943-8465-49f3-d5bd-8d7f0e6e0063"
      },
      "execution_count": 15,
      "outputs": [
        {
          "output_type": "execute_result",
          "data": {
            "text/plain": [
              "6/(x - 1) - 7/(x - 2) + 2/(x - 4)"
            ],
            "text/latex": "$\\displaystyle \\frac{6}{x - 1} - \\frac{7}{x - 2} + \\frac{2}{x - 4}$"
          },
          "metadata": {},
          "execution_count": 15
        }
      ]
    },
    {
      "cell_type": "markdown",
      "source": [
        "## Transformada de Laplace"
      ],
      "metadata": {
        "id": "KlqN_rED77cE"
      }
    },
    {
      "cell_type": "code",
      "source": [
        "t, s = sp.symbols(\"t, s\") #declaración de variables"
      ],
      "metadata": {
        "id": "NLslJN8Y8E5X"
      },
      "execution_count": 17,
      "outputs": []
    },
    {
      "cell_type": "code",
      "source": [
        "a = sp.symbols(\"a\", real=True, positive=True) #a como variable real y positiva"
      ],
      "metadata": {
        "id": "BPUtYxf78eGd"
      },
      "execution_count": 18,
      "outputs": []
    },
    {
      "cell_type": "code",
      "source": [
        "#fun = sp.exp(-a*t)\n",
        "#fun=t**4\n",
        "fun = sp.sin(a*t)"
      ],
      "metadata": {
        "id": "OpfgAKW48hR3"
      },
      "execution_count": 26,
      "outputs": []
    },
    {
      "cell_type": "code",
      "source": [
        "Fs = sp.laplace_transform(fun, t, s, noconds=True) #transfromada de Laplace y los argumentos que necesitamos\n",
        "#fun es la función a la que aplicaremos la transformada\n",
        "#s la variable de la transformada\n",
        "#noconds=True #no devolverá las condiciones bajo las cuales la transformada de Laplace converge\""
      ],
      "metadata": {
        "id": "xArMCbiF8whP"
      },
      "execution_count": 53,
      "outputs": []
    },
    {
      "cell_type": "code",
      "source": [
        "Fs #imprime el resultado de la transformada de la función"
      ],
      "metadata": {
        "colab": {
          "base_uri": "https://localhost:8080/",
          "height": 49
        },
        "id": "zCkJYOrd8zMZ",
        "outputId": "ad37e621-0b1f-4727-a23e-5e81d1e79760"
      },
      "execution_count": 54,
      "outputs": [
        {
          "output_type": "execute_result",
          "data": {
            "text/plain": [
              "a/(a**2 + s**2)"
            ],
            "text/latex": "$\\displaystyle \\frac{a}{a^{2} + s^{2}}$"
          },
          "metadata": {},
          "execution_count": 54
        }
      ]
    },
    {
      "cell_type": "markdown",
      "source": [
        "## Función escalón"
      ],
      "metadata": {
        "id": "NH0_oMlU9PsN"
      }
    },
    {
      "cell_type": "code",
      "source": [
        "t = sp.Symbol('t') #declaración de variable"
      ],
      "metadata": {
        "id": "uTRpa51r9NGm"
      },
      "execution_count": 29,
      "outputs": []
    },
    {
      "cell_type": "code",
      "source": [
        "u = sp.Heaviside(t) #función Heaviside (escalón unitaria) que se aplica a la variable t\n",
        "#si t es positiva, la función es igual a 1, si es negativa es igual a cero\n",
        "ft = u - u.subs(t,t-1) #sustituye a t como t-2"
      ],
      "metadata": {
        "id": "4tcLuSEy9XFA"
      },
      "execution_count": 59,
      "outputs": []
    },
    {
      "cell_type": "code",
      "source": [
        "ft"
      ],
      "metadata": {
        "colab": {
          "base_uri": "https://localhost:8080/",
          "height": 39
        },
        "id": "lYTugBdd9e8I",
        "outputId": "e034be5a-e923-485a-be4d-379762d4dfcb"
      },
      "execution_count": 60,
      "outputs": [
        {
          "output_type": "execute_result",
          "data": {
            "text/plain": [
              "Heaviside(t) - Heaviside(t - 1)"
            ],
            "text/latex": "$\\displaystyle \\theta\\left(t\\right) - \\theta\\left(t - 1\\right)$"
          },
          "metadata": {},
          "execution_count": 60
        }
      ]
    },
    {
      "cell_type": "code",
      "source": [
        "c1=sp.plotting.plot(ft)"
      ],
      "metadata": {
        "colab": {
          "base_uri": "https://localhost:8080/",
          "height": 484
        },
        "id": "Oo5HAxiP9w-a",
        "outputId": "0d4eb566-bce8-498e-8bf7-821060044aac"
      },
      "execution_count": 61,
      "outputs": [
        {
          "output_type": "display_data",
          "data": {
            "text/plain": [
              "<Figure size 640x480 with 1 Axes>"
            ],
            "image/png": "[encoded data removed]"
          },
          "metadata": {}
        }
      ]
    },
    {
      "cell_type": "code",
      "source": [
        "d = sp.DiracDelta(t)"
      ],
      "metadata": {
        "id": "hatCQlIQ99eC"
      },
      "execution_count": 37,
      "outputs": []
    },
    {
      "cell_type": "code",
      "source": [
        "d"
      ],
      "metadata": {
        "colab": {
          "base_uri": "https://localhost:8080/",
          "height": 39
        },
        "id": "oahYUgPK-A_L",
        "outputId": "ecba90a6-8598-4cb0-fdbb-1b2c14641079"
      },
      "execution_count": 38,
      "outputs": [
        {
          "output_type": "execute_result",
          "data": {
            "text/plain": [
              "DiracDelta(t)"
            ],
            "text/latex": "$\\displaystyle \\delta\\left(t\\right)$"
          },
          "metadata": {},
          "execution_count": 38
        }
      ]
    },
    {
      "cell_type": "code",
      "source": [
        "#c2=sp.plotting.plot(d)"
      ],
      "metadata": {
        "id": "o1S6uMhT-CVQ"
      },
      "execution_count": 63,
      "outputs": []
    },
    {
      "cell_type": "code",
      "source": [
        "gt = sp.exp(-2*t)*u + sp.exp(-t)*sp.cos(3*t)*u"
      ],
      "metadata": {
        "id": "y4QOuq5p-X3v"
      },
      "execution_count": 40,
      "outputs": []
    },
    {
      "cell_type": "code",
      "source": [
        "gt"
      ],
      "metadata": {
        "colab": {
          "base_uri": "https://localhost:8080/",
          "height": 39
        },
        "id": "h-knTaFq-aEq",
        "outputId": "b60e365b-c3c4-4802-8d15-ea6f23ff69f0"
      },
      "execution_count": 41,
      "outputs": [
        {
          "output_type": "execute_result",
          "data": {
            "text/plain": [
              "exp(-t)*cos(3*t)*Heaviside(t) + exp(-2*t)*Heaviside(t)"
            ],
            "text/latex": "$\\displaystyle e^{- t} \\cos{\\left(3 t \\right)} \\theta\\left(t\\right) + e^{- 2 t} \\theta\\left(t\\right)$"
          },
          "metadata": {},
          "execution_count": 41
        }
      ]
    },
    {
      "cell_type": "code",
      "source": [
        "c3=sp.plotting.plot(gt)"
      ],
      "metadata": {
        "colab": {
          "base_uri": "https://localhost:8080/",
          "height": 487
        },
        "id": "ZlEGe4ML-bq8",
        "outputId": "d059ec02-a78e-4ae4-e7be-b0a75412dc55"
      },
      "execution_count": 42,
      "outputs": [
        {
          "output_type": "display_data",
          "data": {
            "text/plain": [
              "<Figure size 640x480 with 1 Axes>"
            ],
            "image/png": "[encoded data removed]"
          },
          "metadata": {}
        }
      ]
    },
    {
      "cell_type": "code",
      "source": [
        "ht = d - 3*d.subs(t,t-2) + 2*d.subs(t,t-3)"
      ],
      "metadata": {
        "id": "nx3x8ztt-e6w"
      },
      "execution_count": 43,
      "outputs": []
    },
    {
      "cell_type": "code",
      "source": [
        "ht"
      ],
      "metadata": {
        "colab": {
          "base_uri": "https://localhost:8080/",
          "height": 39
        },
        "id": "sbXNThgx-iu3",
        "outputId": "e2c08fe7-07f2-47fc-afd9-75cb6f338007"
      },
      "execution_count": 44,
      "outputs": [
        {
          "output_type": "execute_result",
          "data": {
            "text/plain": [
              "DiracDelta(t) + 2*DiracDelta(t - 3) - 3*DiracDelta(t - 2)"
            ],
            "text/latex": "$\\displaystyle \\delta\\left(t\\right) + 2 \\delta\\left(t - 3\\right) - 3 \\delta\\left(t - 2\\right)$"
          },
          "metadata": {},
          "execution_count": 44
        }
      ]
    },
    {
      "cell_type": "code",
      "source": [
        "#c4=sp.plotting.plot(ht)"
      ],
      "metadata": {
        "id": "sV_2-qK0-j7L"
      },
      "execution_count": 62,
      "outputs": []
    },
    {
      "cell_type": "markdown",
      "source": [
        "## Actividad 4\n"
      ],
      "metadata": {
        "id": "XUP9RhIqIMIY"
      }
    },
    {
      "cell_type": "markdown",
      "source": [
        "#### Ejercicio a)"
      ],
      "metadata": {
        "id": "IuS5ERjxIcQl"
      }
    },
    {
      "cell_type": "code",
      "source": [
        "import sympy as sp #métodos numéricos\n",
        "import numpy as np #vectores\n",
        "import scipy as pp #calculos simbólicos\n",
        "import matplotlib as mpl\n",
        "import matplotlib.pyplot as plt\n",
        "\n",
        "#from sympy import init_printing\n",
        "#sp.init_printing()"
      ],
      "metadata": {
        "id": "Qyas4Y80IfpL"
      },
      "execution_count": 251,
      "outputs": []
    },
    {
      "cell_type": "code",
      "source": [
        "t, s = sp.symbols(\"t, s\") #declaración de variables\n",
        "y=sp.Function('y')"
      ],
      "metadata": {
        "id": "8YZ2tADLWihm"
      },
      "execution_count": 291,
      "outputs": []
    },
    {
      "cell_type": "code",
      "source": [
        "ode=sp.Eq(y(t).diff(t,2)+4*y(t),0)\n",
        "ode"
      ],
      "metadata": {
        "colab": {
          "base_uri": "https://localhost:8080/",
          "height": 54
        },
        "id": "Kr-v3ZSOWmqu",
        "outputId": "09d4902a-b3d4-4711-87c3-8855eae2d675"
      },
      "execution_count": 292,
      "outputs": [
        {
          "output_type": "execute_result",
          "data": {
            "text/plain": [
              "          2           \n",
              "         d            \n",
              "4⋅y(t) + ───(y(t)) = 0\n",
              "           2          \n",
              "         dt           "
            ],
            "text/latex": "$\\displaystyle 4 y{\\left(t \\right)} + \\frac{d^{2}}{d t^{2}} y{\\left(t \\right)} = 0$"
          },
          "metadata": {},
          "execution_count": 292
        }
      ]
    },
    {
      "cell_type": "code",
      "source": [
        "ics={y(0):2, y(t).diff(t).subs(t,0):-8} #condiciones inciales"
      ],
      "metadata": {
        "id": "5m2ZZbCDX1OY"
      },
      "execution_count": 293,
      "outputs": []
    },
    {
      "cell_type": "code",
      "source": [
        "ics"
      ],
      "metadata": {
        "colab": {
          "base_uri": "https://localhost:8080/",
          "height": 68
        },
        "id": "UPWcXHIUX_Vk",
        "outputId": "82b8ffac-33c5-449b-e054-7a36f4e49336"
      },
      "execution_count": 294,
      "outputs": [
        {
          "output_type": "execute_result",
          "data": {
            "text/plain": [
              "⎧         ⎛d       ⎞│       ⎫\n",
              "⎨y(0): 2, ⎜──(y(t))⎟│   : -8⎬\n",
              "⎩         ⎝dt      ⎠│t=0    ⎭"
            ],
            "text/latex": "$\\displaystyle \\left\\{ y{\\left(0 \\right)} : 2, \\  \\left. \\frac{d}{d t} y{\\left(t \\right)} \\right|_{\\substack{ t=0 }} : -8\\right\\}$"
          },
          "metadata": {},
          "execution_count": 294
        }
      ]
    },
    {
      "cell_type": "code",
      "source": [
        "fun1 = y(t).diff(t,2)+4*y(t)"
      ],
      "metadata": {
        "id": "NdWnSdjHY7oP"
      },
      "execution_count": 295,
      "outputs": []
    },
    {
      "cell_type": "code",
      "source": [
        "Fs1 = Eq(laplace_transform(fun1, t, s, noconds=True),0)"
      ],
      "metadata": {
        "id": "gsWiYkpKYAqy"
      },
      "execution_count": 296,
      "outputs": []
    },
    {
      "cell_type": "code",
      "source": [
        "Fs1"
      ],
      "metadata": {
        "colab": {
          "base_uri": "https://localhost:8080/",
          "height": 60
        },
        "id": "YaEhcj1EZJBH",
        "outputId": "496a1c9f-8a86-4cc9-fa5e-ccb1c225bf04"
      },
      "execution_count": 297,
      "outputs": [
        {
          "output_type": "execute_result",
          "data": {
            "text/plain": [
              " 2                                                                          ⎛d       ⎞│       \n",
              "s ⋅LaplaceTransform(y(t), t, s) - s⋅y(0) + 4⋅LaplaceTransform(y(t), t, s) - ⎜──(y(t))⎟│    = 0\n",
              "                                                                            ⎝dt      ⎠│t=0    "
            ],
            "text/latex": "$\\displaystyle s^{2} \\mathcal{L}_{t}\\left[y{\\left(t \\right)}\\right]\\left(s\\right) - s y{\\left(0 \\right)} + 4 \\mathcal{L}_{t}\\left[y{\\left(t \\right)}\\right]\\left(s\\right) - \\left. \\frac{d}{d t} y{\\left(t \\right)} \\right|_{\\substack{ t=0 }} = 0$"
          },
          "metadata": {},
          "execution_count": 297
        }
      ]
    },
    {
      "cell_type": "code",
      "source": [
        "Fs2 = Fs1.subs(ics)\n",
        "Fs2"
      ],
      "metadata": {
        "colab": {
          "base_uri": "https://localhost:8080/",
          "height": 39
        },
        "id": "wbCkUlHkbxCo",
        "outputId": "9e52cacd-a72f-47fe-fce7-1e8218d0d86c"
      },
      "execution_count": 298,
      "outputs": [
        {
          "output_type": "execute_result",
          "data": {
            "text/plain": [
              " 2                                                                            \n",
              "s ⋅LaplaceTransform(y(t), t, s) - 2⋅s + 4⋅LaplaceTransform(y(t), t, s) + 8 = 0"
            ],
            "text/latex": "$\\displaystyle s^{2} \\mathcal{L}_{t}\\left[y{\\left(t \\right)}\\right]\\left(s\\right) - 2 s + 4 \\mathcal{L}_{t}\\left[y{\\left(t \\right)}\\right]\\left(s\\right) + 8 = 0$"
          },
          "metadata": {},
          "execution_count": 298
        }
      ]
    },
    {
      "cell_type": "code",
      "source": [
        "Lap=laplace_transform(y(t),t,s)"
      ],
      "metadata": {
        "id": "mLb3o4Wmc5hm"
      },
      "execution_count": 299,
      "outputs": []
    },
    {
      "cell_type": "code",
      "source": [
        "Fs2_sol=solve(Fs2,Lap)[0]\n",
        "Fs2_sol"
      ],
      "metadata": {
        "colab": {
          "base_uri": "https://localhost:8080/",
          "height": 58
        },
        "id": "nFIEaN2xdHpa",
        "outputId": "e8e25a46-0a71-43c4-d550-b6400ae9ef6f"
      },
      "execution_count": 300,
      "outputs": [
        {
          "output_type": "execute_result",
          "data": {
            "text/plain": [
              "⎛2⋅(s - 4)          ⎞\n",
              "⎜─────────, -∞, True⎟\n",
              "⎜  2                ⎟\n",
              "⎝ s  + 4            ⎠"
            ],
            "text/latex": "$\\displaystyle \\left( \\frac{2 \\left(s - 4\\right)}{s^{2} + 4}, \\  -\\infty, \\  \\text{True}\\right)$"
          },
          "metadata": {},
          "execution_count": 300
        }
      ]
    },
    {
      "cell_type": "code",
      "source": [
        "CSol2=sp.plotting.plot(Fs2_sol)"
      ],
      "metadata": {
        "colab": {
          "base_uri": "https://localhost:8080/",
          "height": 487
        },
        "id": "2YcWtWHguBiG",
        "outputId": "10f786a0-efaf-47b0-8616-990554c89685"
      },
      "execution_count": 301,
      "outputs": [
        {
          "output_type": "display_data",
          "data": {
            "text/plain": [
              "<Figure size 640x480 with 1 Axes>"
            ],
            "image/png": "[encoded data removed]"
          },
          "metadata": {}
        }
      ]
    },
    {
      "cell_type": "code",
      "source": [
        "Inverse_Fs2=inverse_laplace_transform(Fs2_sol[0],s,t)\n",
        "Inverse_Fs2"
      ],
      "metadata": {
        "colab": {
          "base_uri": "https://localhost:8080/",
          "height": 39
        },
        "id": "T8OhkbBNtckz",
        "outputId": "6ba9db17-a8a1-4242-8525-c59fdc06331f"
      },
      "execution_count": 302,
      "outputs": [
        {
          "output_type": "execute_result",
          "data": {
            "text/plain": [
              "2⋅(-2⋅sin(2⋅t) + cos(2⋅t))⋅θ(t)"
            ],
            "text/latex": "$\\displaystyle 2 \\left(- 2 \\sin{\\left(2 t \\right)} + \\cos{\\left(2 t \\right)}\\right) \\theta\\left(t\\right)$"
          },
          "metadata": {},
          "execution_count": 302
        }
      ]
    },
    {
      "cell_type": "code",
      "source": [
        "cFs2=sp.plotting.plot(Inverse_Fs2)"
      ],
      "metadata": {
        "colab": {
          "base_uri": "https://localhost:8080/",
          "height": 487
        },
        "id": "3fkFiqb7t6aY",
        "outputId": "0969c0aa-95df-436c-ed08-84f840a32904"
      },
      "execution_count": 303,
      "outputs": [
        {
          "output_type": "display_data",
          "data": {
            "text/plain": [
              "<Figure size 640x480 with 1 Axes>"
            ],
            "image/png": "[encoded data removed]"
          },
          "metadata": {}
        }
      ]
    },
    {
      "cell_type": "markdown",
      "source": [],
      "metadata": {
        "id": "IPU0trOnudT2"
      }
    },
    {
      "cell_type": "markdown",
      "source": [
        "#### Ejercicio b)"
      ],
      "metadata": {
        "id": "Kmt57PAJudoO"
      }
    },
    {
      "cell_type": "code",
      "source": [
        "import sympy as sp #métodos numéricos\n",
        "import numpy as np #vectores\n",
        "import scipy as pp #calculos simbólicos\n",
        "import matplotlib as mpl\n",
        "import matplotlib.pyplot as plt\n",
        "\n",
        "#from sympy import init_printing\n",
        "#sp.init_printing()"
      ],
      "metadata": {
        "id": "7JXFo83KuhFp"
      },
      "execution_count": 304,
      "outputs": []
    },
    {
      "cell_type": "code",
      "source": [
        "t, s = sp.symbols(\"t, s\") #declaración de variables\n",
        "y=sp.Function('y')"
      ],
      "metadata": {
        "id": "zjslCC-svLyk"
      },
      "execution_count": 305,
      "outputs": []
    },
    {
      "cell_type": "code",
      "source": [
        "ode=sp.Eq(4*y(t).diff(t,2)+pi**2*y(t),0)\n",
        "ode"
      ],
      "metadata": {
        "colab": {
          "base_uri": "https://localhost:8080/",
          "height": 54
        },
        "id": "-xGdWDJCvQt5",
        "outputId": "a6556096-23d3-4044-db97-561710f7c8b4"
      },
      "execution_count": 306,
      "outputs": [
        {
          "output_type": "execute_result",
          "data": {
            "text/plain": [
              "             2           \n",
              " 2          d            \n",
              "π ⋅y(t) + 4⋅───(y(t)) = 0\n",
              "              2          \n",
              "            dt           "
            ],
            "text/latex": "$\\displaystyle \\pi^{2} y{\\left(t \\right)} + 4 \\frac{d^{2}}{d t^{2}} y{\\left(t \\right)} = 0$"
          },
          "metadata": {},
          "execution_count": 306
        }
      ]
    },
    {
      "cell_type": "code",
      "source": [
        "ics={y(0):0, y(t).diff(t).subs(t,0):1} #condiciones inciales\n",
        "ics"
      ],
      "metadata": {
        "colab": {
          "base_uri": "https://localhost:8080/",
          "height": 68
        },
        "id": "9eoMeHVWvS5g",
        "outputId": "bfbcd7c8-7c80-46a6-a6c2-4a1c0ab569e6"
      },
      "execution_count": 307,
      "outputs": [
        {
          "output_type": "execute_result",
          "data": {
            "text/plain": [
              "⎧         ⎛d       ⎞│      ⎫\n",
              "⎨y(0): 0, ⎜──(y(t))⎟│   : 1⎬\n",
              "⎩         ⎝dt      ⎠│t=0   ⎭"
            ],
            "text/latex": "$\\displaystyle \\left\\{ y{\\left(0 \\right)} : 0, \\  \\left. \\frac{d}{d t} y{\\left(t \\right)} \\right|_{\\substack{ t=0 }} : 1\\right\\}$"
          },
          "metadata": {},
          "execution_count": 307
        }
      ]
    },
    {
      "cell_type": "code",
      "source": [
        "fun2 = 4*y(t).diff(t,2)+pi**2*y(t)\n",
        "Fs_fun2 = Eq(laplace_transform(fun2, t, s, noconds=True),0)\n",
        "Fs_fun2"
      ],
      "metadata": {
        "colab": {
          "base_uri": "https://localhost:8080/",
          "height": 60
        },
        "id": "kDDuK8Uovnhl",
        "outputId": "1ea37274-f288-45ac-b7cf-d437c085b5be"
      },
      "execution_count": 308,
      "outputs": [
        {
          "output_type": "execute_result",
          "data": {
            "text/plain": [
              "   2                                            2                                  ⎛d       ⎞│     ↪\n",
              "4⋅s ⋅LaplaceTransform(y(t), t, s) - 4⋅s⋅y(0) + π ⋅LaplaceTransform(y(t), t, s) - 4⋅⎜──(y(t))⎟│     ↪\n",
              "                                                                                   ⎝dt      ⎠│t=0  ↪\n",
              "\n",
              "↪    \n",
              "↪ = 0\n",
              "↪    "
            ],
            "text/latex": "$\\displaystyle 4 s^{2} \\mathcal{L}_{t}\\left[y{\\left(t \\right)}\\right]\\left(s\\right) - 4 s y{\\left(0 \\right)} + \\pi^{2} \\mathcal{L}_{t}\\left[y{\\left(t \\right)}\\right]\\left(s\\right) - 4 \\left. \\frac{d}{d t} y{\\left(t \\right)} \\right|_{\\substack{ t=0 }} = 0$"
          },
          "metadata": {},
          "execution_count": 308
        }
      ]
    },
    {
      "cell_type": "code",
      "source": [
        "Fs_fun2_ = Fs_fun2.subs(ics)\n",
        "Fs_fun2_"
      ],
      "metadata": {
        "colab": {
          "base_uri": "https://localhost:8080/",
          "height": 39
        },
        "id": "vp9EKyR_wWIg",
        "outputId": "60d106d8-1b09-4e30-e864-e2eb0dcd0846"
      },
      "execution_count": 322,
      "outputs": [
        {
          "output_type": "execute_result",
          "data": {
            "text/plain": [
              "   2                                 2                                     \n",
              "4⋅s ⋅LaplaceTransform(y(t), t, s) + π ⋅LaplaceTransform(y(t), t, s) - 4 = 0"
            ],
            "text/latex": "$\\displaystyle 4 s^{2} \\mathcal{L}_{t}\\left[y{\\left(t \\right)}\\right]\\left(s\\right) + \\pi^{2} \\mathcal{L}_{t}\\left[y{\\left(t \\right)}\\right]\\left(s\\right) - 4 = 0$"
          },
          "metadata": {},
          "execution_count": 322
        }
      ]
    },
    {
      "cell_type": "code",
      "source": [
        "Lap=laplace_transform(y(t),t,s)\n",
        "Fs_fun2_sol=solve(Fs_fun2_,Lap)[0]\n",
        "Fs_fun2_sol"
      ],
      "metadata": {
        "colab": {
          "base_uri": "https://localhost:8080/",
          "height": 58
        },
        "id": "oHc_gFFswn4h",
        "outputId": "f06e21b4-6b83-4d40-a741-a2880e65e3c5"
      },
      "execution_count": 356,
      "outputs": [
        {
          "output_type": "execute_result",
          "data": {
            "text/plain": [
              "⎛    4              ⎞\n",
              "⎜─────────, -∞, True⎟\n",
              "⎜   2    2          ⎟\n",
              "⎝4⋅s  + π           ⎠"
            ],
            "text/latex": "$\\displaystyle \\left( \\frac{4}{4 s^{2} + \\pi^{2}}, \\  -\\infty, \\  \\text{True}\\right)$"
          },
          "metadata": {},
          "execution_count": 356
        }
      ]
    },
    {
      "cell_type": "code",
      "source": [
        "Inverse_2=inverse_laplace_transform(Fs_fun2_sol[0],s,t)\n",
        "Inverse_2"
      ],
      "metadata": {
        "colab": {
          "base_uri": "https://localhost:8080/",
          "height": 56
        },
        "id": "b6j1CDGNx1IH",
        "outputId": "176efdd3-078f-42bd-fdc2-abf0cdfa083c"
      },
      "execution_count": 357,
      "outputs": [
        {
          "output_type": "execute_result",
          "data": {
            "text/plain": [
              "     ⎛π⋅t⎞     \n",
              "2⋅sin⎜───⎟⋅θ(t)\n",
              "     ⎝ 2 ⎠     \n",
              "───────────────\n",
              "       π       "
            ],
            "text/latex": "$\\displaystyle \\frac{2 \\sin{\\left(\\frac{\\pi t}{2} \\right)} \\theta\\left(t\\right)}{\\pi}$"
          },
          "metadata": {},
          "execution_count": 357
        }
      ]
    },
    {
      "cell_type": "code",
      "source": [
        "Inverse_2_of= Inverse_2.subs(ics)\n",
        "Inverse_2_of"
      ],
      "metadata": {
        "colab": {
          "base_uri": "https://localhost:8080/",
          "height": 56
        },
        "id": "3fKf3sXGyAJz",
        "outputId": "c9245896-d5c4-4c27-9bf6-bf64f6656e50"
      },
      "execution_count": 358,
      "outputs": [
        {
          "output_type": "execute_result",
          "data": {
            "text/plain": [
              "     ⎛π⋅t⎞     \n",
              "2⋅sin⎜───⎟⋅θ(t)\n",
              "     ⎝ 2 ⎠     \n",
              "───────────────\n",
              "       π       "
            ],
            "text/latex": "$\\displaystyle \\frac{2 \\sin{\\left(\\frac{\\pi t}{2} \\right)} \\theta\\left(t\\right)}{\\pi}$"
          },
          "metadata": {},
          "execution_count": 358
        }
      ]
    },
    {
      "cell_type": "code",
      "source": [
        "c2=sp.plotting.plot(Inverse_2_of)"
      ],
      "metadata": {
        "colab": {
          "base_uri": "https://localhost:8080/",
          "height": 486
        },
        "id": "meWIw3dGyrN0",
        "outputId": "9198b5d8-1bd2-4f47-ba96-68b6f36143a2"
      },
      "execution_count": 359,
      "outputs": [
        {
          "output_type": "display_data",
          "data": {
            "text/plain": [
              "<Figure size 640x480 with 1 Axes>"
            ],
            "image/png": "[encoded data removed]"
          },
          "metadata": {}
        }
      ]
    },
    {
      "cell_type": "markdown",
      "source": [
        "#### Ejercicio d)"
      ],
      "metadata": {
        "id": "tWP8Frihy1dR"
      }
    },
    {
      "cell_type": "code",
      "source": [
        "import sympy as sp #métodos numéricos\n",
        "import numpy as np #vectores\n",
        "import scipy as pp #calculos simbólicos\n",
        "import matplotlib as mpl\n",
        "import matplotlib.pyplot as plt\n",
        "\n",
        "#from sympy import init_printing\n",
        "#sp.init_printing()"
      ],
      "metadata": {
        "id": "Mqi3EUz1y9pJ"
      },
      "execution_count": 334,
      "outputs": []
    },
    {
      "cell_type": "code",
      "source": [
        "t, s = sp.symbols(\"t, s\") #declaración de variables\n",
        "y=sp.Function('y')"
      ],
      "metadata": {
        "id": "lPiohP8EzeRo"
      },
      "execution_count": 335,
      "outputs": []
    },
    {
      "cell_type": "code",
      "source": [
        "ode1=sp.Eq(y(t).diff(t,2)+2*y(t).diff(t,1)-8*y(t),0)\n",
        "ode1"
      ],
      "metadata": {
        "colab": {
          "base_uri": "https://localhost:8080/",
          "height": 54
        },
        "id": "-bnREkoTzlqy",
        "outputId": "95a7ba11-23b6-4ecc-e3c2-fb6e7ebed2f1"
      },
      "execution_count": 336,
      "outputs": [
        {
          "output_type": "execute_result",
          "data": {
            "text/plain": [
              "                        2           \n",
              "            d          d            \n",
              "-8⋅y(t) + 2⋅──(y(t)) + ───(y(t)) = 0\n",
              "            dt           2          \n",
              "                       dt           "
            ],
            "text/latex": "$\\displaystyle - 8 y{\\left(t \\right)} + 2 \\frac{d}{d t} y{\\left(t \\right)} + \\frac{d^{2}}{d t^{2}} y{\\left(t \\right)} = 0$"
          },
          "metadata": {},
          "execution_count": 336
        }
      ]
    },
    {
      "cell_type": "code",
      "source": [
        "ics={y(0):0, y(t).diff(t).subs(t,0):6} #condiciones inciales\n",
        "ics"
      ],
      "metadata": {
        "colab": {
          "base_uri": "https://localhost:8080/",
          "height": 68
        },
        "id": "B6GoJZmwz4i1",
        "outputId": "aab7d002-330a-4188-b0a8-44efca516a67"
      },
      "execution_count": 345,
      "outputs": [
        {
          "output_type": "execute_result",
          "data": {
            "text/plain": [
              "⎧         ⎛d       ⎞│      ⎫\n",
              "⎨y(0): 0, ⎜──(y(t))⎟│   : 6⎬\n",
              "⎩         ⎝dt      ⎠│t=0   ⎭"
            ],
            "text/latex": "$\\displaystyle \\left\\{ y{\\left(0 \\right)} : 0, \\  \\left. \\frac{d}{d t} y{\\left(t \\right)} \\right|_{\\substack{ t=0 }} : 6\\right\\}$"
          },
          "metadata": {},
          "execution_count": 345
        }
      ]
    },
    {
      "cell_type": "code",
      "source": [
        "fun3 = y(t).diff(t,2)+2*y(t).diff(t,1)-8*y(t)\n",
        "Fs_fun3 = Eq(laplace_transform(fun3, t, s, noconds=True),0)\n",
        "Fs_fun3"
      ],
      "metadata": {
        "colab": {
          "base_uri": "https://localhost:8080/",
          "height": 60
        },
        "id": "wJOjYt8S0Dwq",
        "outputId": "98bc214b-e468-4dc1-a627-1f42e569f614"
      },
      "execution_count": 346,
      "outputs": [
        {
          "output_type": "execute_result",
          "data": {
            "text/plain": [
              " 2                                                                                                 ↪\n",
              "s ⋅LaplaceTransform(y(t), t, s) + 2⋅s⋅LaplaceTransform(y(t), t, s) - s⋅y(0) - 8⋅LaplaceTransform(y ↪\n",
              "                                                                                                   ↪\n",
              "\n",
              "↪                       ⎛d       ⎞│       \n",
              "↪ (t), t, s) - 2⋅y(0) - ⎜──(y(t))⎟│    = 0\n",
              "↪                       ⎝dt      ⎠│t=0    "
            ],
            "text/latex": "$\\displaystyle s^{2} \\mathcal{L}_{t}\\left[y{\\left(t \\right)}\\right]\\left(s\\right) + 2 s \\mathcal{L}_{t}\\left[y{\\left(t \\right)}\\right]\\left(s\\right) - s y{\\left(0 \\right)} - 8 \\mathcal{L}_{t}\\left[y{\\left(t \\right)}\\right]\\left(s\\right) - 2 y{\\left(0 \\right)} - \\left. \\frac{d}{d t} y{\\left(t \\right)} \\right|_{\\substack{ t=0 }} = 0$"
          },
          "metadata": {},
          "execution_count": 346
        }
      ]
    },
    {
      "cell_type": "code",
      "source": [
        "Fs_fun3_ = Fs_fun3.subs(ics)\n",
        "Fs_fun3_"
      ],
      "metadata": {
        "colab": {
          "base_uri": "https://localhost:8080/",
          "height": 39
        },
        "id": "qv-u994V1Isu",
        "outputId": "0d73ef08-9beb-463f-b2e3-cbdfe99835af"
      },
      "execution_count": 353,
      "outputs": [
        {
          "output_type": "execute_result",
          "data": {
            "text/plain": [
              " 2                                                                                                 ↪\n",
              "s ⋅LaplaceTransform(y(t), t, s) + 2⋅s⋅LaplaceTransform(y(t), t, s) - 8⋅LaplaceTransform(y(t), t, s ↪\n",
              "\n",
              "↪          \n",
              "↪ ) - 6 = 0"
            ],
            "text/latex": "$\\displaystyle s^{2} \\mathcal{L}_{t}\\left[y{\\left(t \\right)}\\right]\\left(s\\right) + 2 s \\mathcal{L}_{t}\\left[y{\\left(t \\right)}\\right]\\left(s\\right) - 8 \\mathcal{L}_{t}\\left[y{\\left(t \\right)}\\right]\\left(s\\right) - 6 = 0$"
          },
          "metadata": {},
          "execution_count": 353
        }
      ]
    },
    {
      "cell_type": "code",
      "source": [
        "Lap=laplace_transform(y(t),t,s)\n",
        "Fs_fun3_sol=solve(Fs_fun3_,Lap)[0]\n",
        "Fs_fun3_sol"
      ],
      "metadata": {
        "colab": {
          "base_uri": "https://localhost:8080/",
          "height": 58
        },
        "id": "dAQMHQbo0kJ1",
        "outputId": "057a9b58-615c-49c1-e4d6-8d3b0c4dbfbe"
      },
      "execution_count": 360,
      "outputs": [
        {
          "output_type": "execute_result",
          "data": {
            "text/plain": [
              "⎛     6                ⎞\n",
              "⎜────────────, -∞, True⎟\n",
              "⎜ 2                    ⎟\n",
              "⎝s  + 2⋅s - 8          ⎠"
            ],
            "text/latex": "$\\displaystyle \\left( \\frac{6}{s^{2} + 2 s - 8}, \\  -\\infty, \\  \\text{True}\\right)$"
          },
          "metadata": {},
          "execution_count": 360
        }
      ]
    },
    {
      "cell_type": "code",
      "source": [
        "Inverse_3=inverse_laplace_transform(Fs_fun3_sol[0],s,t)\n",
        "Inverse_3_of= Inverse_3.subs(ics)\n",
        "Inverse_3_of"
      ],
      "metadata": {
        "colab": {
          "base_uri": "https://localhost:8080/",
          "height": 39
        },
        "id": "5q1Tf1n40QqL",
        "outputId": "4e30098b-fcee-48e1-cd8e-f538f37f307d"
      },
      "execution_count": 361,
      "outputs": [
        {
          "output_type": "execute_result",
          "data": {
            "text/plain": [
              " 2⋅t         -4⋅t     \n",
              "ℯ   ⋅θ(t) - ℯ    ⋅θ(t)"
            ],
            "text/latex": "$\\displaystyle e^{2 t} \\theta\\left(t\\right) - e^{- 4 t} \\theta\\left(t\\right)$"
          },
          "metadata": {},
          "execution_count": 361
        }
      ]
    },
    {
      "cell_type": "code",
      "source": [
        "c3=sp.plotting.plot(Inverse_3_of)"
      ],
      "metadata": {
        "colab": {
          "base_uri": "https://localhost:8080/",
          "height": 485
        },
        "id": "qOZoU-660pTR",
        "outputId": "26fd6be9-0c24-4e9c-adca-a3b55ac2ccf1"
      },
      "execution_count": 362,
      "outputs": [
        {
          "output_type": "display_data",
          "data": {
            "text/plain": [
              "<Figure size 640x480 with 1 Axes>"
            ],
            "image/png": "[encoded data removed]"
          },
          "metadata": {}
        }
      ]
    },
    {
      "cell_type": "markdown",
      "source": [
        "##### Ejercicio e)"
      ],
      "metadata": {
        "id": "FRXQj3Xi1vJv"
      }
    },
    {
      "cell_type": "code",
      "source": [
        "import sympy as sp #métodos numéricos\n",
        "import numpy as np #vectores\n",
        "import scipy as pp #calculos simbólicos\n",
        "import matplotlib as mpl\n",
        "import matplotlib.pyplot as plt\n",
        "\n",
        "#from sympy import init_printing\n",
        "#sp.init_printing()"
      ],
      "metadata": {
        "id": "aUeti99O11_M"
      },
      "execution_count": 363,
      "outputs": []
    },
    {
      "cell_type": "code",
      "source": [
        "t, s = sp.symbols(\"t, s\") #declaración de variables\n",
        "y=sp.Function('y')"
      ],
      "metadata": {
        "id": "qJsQCmhk17aX"
      },
      "execution_count": 364,
      "outputs": []
    },
    {
      "cell_type": "code",
      "source": [
        "ode2=sp.Eq(y(t).diff(t,2)+5*y(t).diff(t,1)+6*y(t),0)\n",
        "ode2"
      ],
      "metadata": {
        "colab": {
          "base_uri": "https://localhost:8080/",
          "height": 54
        },
        "id": "JHGvX1uL1-_h",
        "outputId": "d57bb2d6-e448-48d1-cd8b-01f6a14f981f"
      },
      "execution_count": 366,
      "outputs": [
        {
          "output_type": "execute_result",
          "data": {
            "text/plain": [
              "                       2           \n",
              "           d          d            \n",
              "6⋅y(t) + 5⋅──(y(t)) + ───(y(t)) = 0\n",
              "           dt           2          \n",
              "                      dt           "
            ],
            "text/latex": "$\\displaystyle 6 y{\\left(t \\right)} + 5 \\frac{d}{d t} y{\\left(t \\right)} + \\frac{d^{2}}{d t^{2}} y{\\left(t \\right)} = 0$"
          },
          "metadata": {},
          "execution_count": 366
        }
      ]
    },
    {
      "cell_type": "code",
      "source": [
        "ics={y(0):0, y(t).diff(t).subs(t,0):1} #condiciones inciales\n",
        "ics"
      ],
      "metadata": {
        "colab": {
          "base_uri": "https://localhost:8080/",
          "height": 68
        },
        "id": "WkoRPywh2F-0",
        "outputId": "0941bf35-b814-45b0-f1bb-6c46e64c8663"
      },
      "execution_count": 367,
      "outputs": [
        {
          "output_type": "execute_result",
          "data": {
            "text/plain": [
              "⎧         ⎛d       ⎞│      ⎫\n",
              "⎨y(0): 0, ⎜──(y(t))⎟│   : 1⎬\n",
              "⎩         ⎝dt      ⎠│t=0   ⎭"
            ],
            "text/latex": "$\\displaystyle \\left\\{ y{\\left(0 \\right)} : 0, \\  \\left. \\frac{d}{d t} y{\\left(t \\right)} \\right|_{\\substack{ t=0 }} : 1\\right\\}$"
          },
          "metadata": {},
          "execution_count": 367
        }
      ]
    },
    {
      "cell_type": "code",
      "source": [
        "fun4 = y(t).diff(t,2)+5*y(t).diff(t,1)+6*y(t)\n",
        "Fs_fun4 = Eq(laplace_transform(fun4, t, s, noconds=True),0)\n",
        "Fs_fun4_ = Fs_fun4.subs(ics)\n",
        "Fs_fun4_"
      ],
      "metadata": {
        "colab": {
          "base_uri": "https://localhost:8080/",
          "height": 39
        },
        "id": "MidQg_Hr2R1k",
        "outputId": "2429ad9e-4828-4c4a-f94d-d0289e813400"
      },
      "execution_count": 370,
      "outputs": [
        {
          "output_type": "execute_result",
          "data": {
            "text/plain": [
              " 2                                                                                                 ↪\n",
              "s ⋅LaplaceTransform(y(t), t, s) + 5⋅s⋅LaplaceTransform(y(t), t, s) + 6⋅LaplaceTransform(y(t), t, s ↪\n",
              "\n",
              "↪          \n",
              "↪ ) - 1 = 0"
            ],
            "text/latex": "$\\displaystyle s^{2} \\mathcal{L}_{t}\\left[y{\\left(t \\right)}\\right]\\left(s\\right) + 5 s \\mathcal{L}_{t}\\left[y{\\left(t \\right)}\\right]\\left(s\\right) + 6 \\mathcal{L}_{t}\\left[y{\\left(t \\right)}\\right]\\left(s\\right) - 1 = 0$"
          },
          "metadata": {},
          "execution_count": 370
        }
      ]
    },
    {
      "cell_type": "code",
      "source": [
        "Lap=laplace_transform(y(t),t,s)\n",
        "Fs_fun4_sol=solve(Fs_fun4_,Lap)[0]\n",
        "Fs_fun4_sol"
      ],
      "metadata": {
        "colab": {
          "base_uri": "https://localhost:8080/",
          "height": 58
        },
        "id": "q6DzOLAA2jiH",
        "outputId": "fc137684-ff7f-417a-a43a-8e701c915b87"
      },
      "execution_count": 371,
      "outputs": [
        {
          "output_type": "execute_result",
          "data": {
            "text/plain": [
              "⎛     1                ⎞\n",
              "⎜────────────, -∞, True⎟\n",
              "⎜ 2                    ⎟\n",
              "⎝s  + 5⋅s + 6          ⎠"
            ],
            "text/latex": "$\\displaystyle \\left( \\frac{1}{s^{2} + 5 s + 6}, \\  -\\infty, \\  \\text{True}\\right)$"
          },
          "metadata": {},
          "execution_count": 371
        }
      ]
    },
    {
      "cell_type": "code",
      "source": [
        "Inverse_4=inverse_laplace_transform(Fs_fun4_sol[0],s,t)\n",
        "Inverse_4_of= Inverse_4.subs(ics)\n",
        "Inverse_4_of"
      ],
      "metadata": {
        "colab": {
          "base_uri": "https://localhost:8080/",
          "height": 39
        },
        "id": "SIlyM-BU22B0",
        "outputId": "b1926f71-a7a6-4618-d270-a7ed5d1b96fb"
      },
      "execution_count": 374,
      "outputs": [
        {
          "output_type": "execute_result",
          "data": {
            "text/plain": [
              " -2⋅t         -3⋅t     \n",
              "ℯ    ⋅θ(t) - ℯ    ⋅θ(t)"
            ],
            "text/latex": "$\\displaystyle e^{- 2 t} \\theta\\left(t\\right) - e^{- 3 t} \\theta\\left(t\\right)$"
          },
          "metadata": {},
          "execution_count": 374
        }
      ]
    },
    {
      "cell_type": "code",
      "source": [
        "c4=sp.plotting.plot(Inverse_4_of)"
      ],
      "metadata": {
        "colab": {
          "base_uri": "https://localhost:8080/",
          "height": 484
        },
        "id": "8yA4xbnc3IrC",
        "outputId": "2ae153da-3b4c-4825-870d-8f58113ff5b9"
      },
      "execution_count": 376,
      "outputs": [
        {
          "output_type": "display_data",
          "data": {
            "text/plain": [
              "<Figure size 640x480 with 1 Axes>"
            ],
            "image/png": "[encoded data removed]"
          },
          "metadata": {}
        }
      ]
    },
    {
      "cell_type": "markdown",
      "source": [
        "Ejercicio f)"
      ],
      "metadata": {
        "id": "9088DqZ33OIU"
      }
    },
    {
      "cell_type": "code",
      "source": [
        "import sympy as sp #métodos numéricos\n",
        "import numpy as np #vectores\n",
        "import scipy as pp #calculos simbólicos\n",
        "import matplotlib as mpl\n",
        "import matplotlib.pyplot as plt\n",
        "\n",
        "#from sympy import init_printing\n",
        "#sp.init_printing()"
      ],
      "metadata": {
        "id": "nzR2mv0W3Pku"
      },
      "execution_count": 377,
      "outputs": []
    },
    {
      "cell_type": "code",
      "source": [
        "t, s = sp.symbols(\"t, s\") #declaración de variables\n",
        "y=sp.Function('y')"
      ],
      "metadata": {
        "id": "veVa2n0C3Z_6"
      },
      "execution_count": 378,
      "outputs": []
    },
    {
      "cell_type": "code",
      "source": [
        "ode3=sp.Eq(y(t).diff(t,2)-4*y(t).diff(t,1)+3*y(t),2*t-8/3)\n",
        "ode3"
      ],
      "metadata": {
        "colab": {
          "base_uri": "https://localhost:8080/",
          "height": 54
        },
        "id": "-uSfIyZv3d-B",
        "outputId": "1e3f9c77-e986-4e9f-b6bf-2dc140065073"
      },
      "execution_count": 379,
      "outputs": [
        {
          "output_type": "execute_result",
          "data": {
            "text/plain": [
              "                       2                                \n",
              "           d          d                                 \n",
              "3⋅y(t) - 4⋅──(y(t)) + ───(y(t)) = 2⋅t - 2.66666666666667\n",
              "           dt           2                               \n",
              "                      dt                                "
            ],
            "text/latex": "$\\displaystyle 3 y{\\left(t \\right)} - 4 \\frac{d}{d t} y{\\left(t \\right)} + \\frac{d^{2}}{d t^{2}} y{\\left(t \\right)} = 2 t - 2.66666666666667$"
          },
          "metadata": {},
          "execution_count": 379
        }
      ]
    },
    {
      "cell_type": "code",
      "source": [
        "ics={y(0):0, y(t).diff(t).subs(t,0):-16/3} #condiciones inciales\n",
        "ics"
      ],
      "metadata": {
        "colab": {
          "base_uri": "https://localhost:8080/",
          "height": 68
        },
        "id": "9tNNdWE43zaq",
        "outputId": "bcd8b267-7001-443f-9e55-1021a39beca9"
      },
      "execution_count": 380,
      "outputs": [
        {
          "output_type": "execute_result",
          "data": {
            "text/plain": [
              "⎧         ⎛d       ⎞│                       ⎫\n",
              "⎨y(0): 0, ⎜──(y(t))⎟│   : -5.333333333333333⎬\n",
              "⎩         ⎝dt      ⎠│t=0                    ⎭"
            ],
            "text/latex": "$\\displaystyle \\left\\{ y{\\left(0 \\right)} : 0, \\  \\left. \\frac{d}{d t} y{\\left(t \\right)} \\right|_{\\substack{ t=0 }} : -5.33333333333333\\right\\}$"
          },
          "metadata": {},
          "execution_count": 380
        }
      ]
    },
    {
      "cell_type": "code",
      "source": [
        "fun5 = y(t).diff(t,2)-4*y(t).diff(t,1)+3*y(t)-2*t+8/3\n",
        "Fs_fun5 = Eq(laplace_transform(fun5, t, s, noconds=True),0)\n",
        "Fs_fun5_ = Fs_fun5.subs(ics)\n",
        "Fs_fun5_"
      ],
      "metadata": {
        "colab": {
          "base_uri": "https://localhost:8080/",
          "height": 51
        },
        "id": "jZzPcq1J34Y2",
        "outputId": "64798c1e-7818-4b38-f350-3f37d523081a"
      },
      "execution_count": 389,
      "outputs": [
        {
          "output_type": "execute_result",
          "data": {
            "text/plain": [
              " 2                                                                                                 ↪\n",
              "s ⋅LaplaceTransform(y(t), t, s) - 4⋅s⋅LaplaceTransform(y(t), t, s) + 3⋅LaplaceTransform(y(t), t, s ↪\n",
              "                                                                                                   ↪\n",
              "                                                                                                   ↪\n",
              "\n",
              "↪                        2.66666666666667   2     \n",
              "↪ ) + 5.33333333333333 + ──────────────── - ── = 0\n",
              "↪                               s            2    \n",
              "↪                                           s     "
            ],
            "text/latex": "$\\displaystyle s^{2} \\mathcal{L}_{t}\\left[y{\\left(t \\right)}\\right]\\left(s\\right) - 4 s \\mathcal{L}_{t}\\left[y{\\left(t \\right)}\\right]\\left(s\\right) + 3 \\mathcal{L}_{t}\\left[y{\\left(t \\right)}\\right]\\left(s\\right) + 5.33333333333333 + \\frac{2.66666666666667}{s} - \\frac{2}{s^{2}} = 0$"
          },
          "metadata": {},
          "execution_count": 389
        }
      ]
    },
    {
      "cell_type": "code",
      "source": [
        "Lap=laplace_transform(y(t),t,s)\n",
        "Fs_fun5_sol=solve(Fs_fun5_,Lap)[0]\n",
        "Fs_fun5_sol"
      ],
      "metadata": {
        "colab": {
          "base_uri": "https://localhost:8080/",
          "height": 68
        },
        "id": "aNlf0Tb24PjL",
        "outputId": "bb478644-f668-46ef-cb57-75ae82db5b86"
      },
      "execution_count": 390,
      "outputs": [
        {
          "output_type": "execute_result",
          "data": {
            "text/plain": [
              "⎛                  ⎛       2              ⎞          ⎞\n",
              "⎜0.666666666666667⋅⎝- 8.0⋅s  - 4.0⋅s + 3.0⎠          ⎟\n",
              "⎜──────────────────────────────────────────, -∞, True⎟\n",
              "⎜           2 ⎛ 2              ⎞                     ⎟\n",
              "⎝          s ⋅⎝s  - 4.0⋅s + 3.0⎠                     ⎠"
            ],
            "text/latex": "$\\displaystyle \\left( \\frac{0.666666666666667 \\left(- 8.0 s^{2} - 4.0 s + 3.0\\right)}{s^{2} \\left(s^{2} - 4.0 s + 3.0\\right)}, \\  -\\infty, \\  \\text{True}\\right)$"
          },
          "metadata": {},
          "execution_count": 390
        }
      ]
    },
    {
      "cell_type": "code",
      "source": [
        "Inverse_5=inverse_laplace_transform(Fs_fun5_sol[0],s,t)\n",
        "Inverse_5_of= Inverse_5.subs(ics)\n",
        "Inverse_5_of"
      ],
      "metadata": {
        "colab": {
          "base_uri": "https://localhost:8080/",
          "height": 39
        },
        "id": "dZKfx_AY4Vza",
        "outputId": "f523da44-e5bb-4ebd-9ba6-0b69f82530f1"
      },
      "execution_count": 391,
      "outputs": [
        {
          "output_type": "execute_result",
          "data": {
            "text/plain": [
              "                                t             3.0⋅t     \n",
              "0.666666666666667⋅t⋅θ(t) + 3.0⋅ℯ ⋅θ(t) - 3.0⋅ℯ     ⋅θ(t)"
            ],
            "text/latex": "$\\displaystyle 0.666666666666667 t \\theta\\left(t\\right) + 3.0 e^{t} \\theta\\left(t\\right) - 3.0 e^{3.0 t} \\theta\\left(t\\right)$"
          },
          "metadata": {},
          "execution_count": 391
        }
      ]
    },
    {
      "cell_type": "code",
      "source": [
        "c5=sp.plotting.plot(Inverse_5_of)"
      ],
      "metadata": {
        "colab": {
          "base_uri": "https://localhost:8080/",
          "height": 487
        },
        "id": "4ldZ6JXd4dMM",
        "outputId": "5d320a29-185d-4d63-b2ae-e8feaca5320a"
      },
      "execution_count": 392,
      "outputs": [
        {
          "output_type": "display_data",
          "data": {
            "text/plain": [
              "<Figure size 640x480 with 1 Axes>"
            ],
            "image/png": "[encoded data removed]"
          },
          "metadata": {}
        }
      ]
    }
  ]
}